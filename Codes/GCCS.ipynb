{
  "cells": [
    {
      "cell_type": "markdown",
      "metadata": {},
      "source": [
        "# Import Libraries"
      ]
    },
    {
      "cell_type": "code",
      "execution_count": null,
      "metadata": {
        "id": "KyoXPQDd1liV"
      },
      "outputs": [],
      "source": [
        "import sys\n",
        "import mosek\n",
        "import numpy as np\n",
        "import pandas as pd"
      ]
    },
    {
      "cell_type": "markdown",
      "metadata": {},
      "source": [
        "# Load Dataset"
      ]
    },
    {
      "cell_type": "code",
      "execution_count": null,
      "metadata": {
        "id": "cQnuMOP3i6eD"
      },
      "outputs": [],
      "source": [
        "df_machines = pd.read_csv('../Datasets/Real-life Dataset/Machines_250.csv')\n",
        "df_applications = pd.read_csv('../Datasets/Real-life Dataset/Applications_200.csv')\n",
        "df_anti_affinity_matrix = pd.read_csv('../Datasets/Real-life Dataset/Anti_Affinity_Matrix_200_250.csv')\n",
        "df_affinity_matrix = pd.read_csv('../Datasets/Real-life Dataset/Affinity_Matrix_200_250.csv')\n",
        "\n",
        "# df_machines = pd.read_csv('../Datasets/Synthetic Dataset/Machines.csv')\n",
        "# df_applications = pd.read_csv('../Datasets/Synthetic Dataset/Applications.csv')\n",
        "# df_anti_affinity_matrix = pd.read_csv('../Datasets/Synthetic Dataset/Anti_Affinity_Matrix.csv')\n",
        "# df_affinity_matrix = pd.read_csv('../Datasets/Synthetic Dataset/Affinity_Matrix.csv')\n",
        "\n",
        "# df_anti_affinity_matrix = pd.read_csv('../Datasets/Anti-Affinity Matrices/Anti_Affinity_Matrix_10.csv')\n",
        "# df_anti_affinity_matrix = pd.read_csv('../Datasets/Anti-Affinity Matrices/Anti_Affinity_Matrix_20.csv')\n",
        "# df_anti_affinity_matrix = pd.read_csv('../Datasets/Anti-Affinity Matrices/Anti_Affinity_Matrix_30.csv')\n",
        "# df_anti_affinity_matrix = pd.read_csv('../Datasets/Anti-Affinity Matrices/Anti_Affinity_Matrix_40.csv')\n",
        "# df_anti_affinity_matrix = pd.read_csv('../Datasets/Anti-Affinity Matrices/Anti_Affinity_Matrix_50.csv')"
      ]
    },
    {
      "cell_type": "code",
      "execution_count": null,
      "metadata": {
        "id": "J20gLX_WjbpB"
      },
      "outputs": [],
      "source": [
        "df_machines = df_machines.loc[:, ~df_machines.columns.str.contains('^Unnamed')]\n",
        "df_applications = df_applications.loc[:, ~df_applications.columns.str.contains('^Unnamed')]\n",
        "df_anti_affinity_matrix = df_anti_affinity_matrix.loc[:, ~df_anti_affinity_matrix.columns.str.contains('^Unnamed')]\n",
        "df_affinity_matrix = df_affinity_matrix.loc[:, ~df_affinity_matrix.columns.str.contains('^Unnamed')]"
      ]
    },
    {
      "cell_type": "code",
      "execution_count": null,
      "metadata": {
        "id": "HhxzJQJJjd34"
      },
      "outputs": [],
      "source": [
        "df_anti_affinity_matrix.columns = pd.to_numeric(df_anti_affinity_matrix.columns, errors='coerce')\n",
        "df_affinity_matrix.columns = pd.to_numeric(df_affinity_matrix.columns, errors='coerce')"
      ]
    },
    {
      "cell_type": "markdown",
      "metadata": {},
      "source": [
        "# Constants Initialization"
      ]
    },
    {
      "cell_type": "code",
      "execution_count": null,
      "metadata": {
        "id": "tgMtisftkz8S"
      },
      "outputs": [],
      "source": [
        "ALPHA = 4\n",
        "GLOBAL_ANS = []\n",
        "GLOBAL_ANS_QUAD = []\n",
        "inf = 0.0\n",
        "\n",
        "# affinity weights\n",
        "WEIGHTS = {\n",
        "    'CPU' : 0.4,\n",
        "    'IO' : 0.2,\n",
        "    'NW' : 0.2,\n",
        "    'Memory' : 0.2\n",
        "}\n",
        "\n",
        "# Specify number of application requests and number of machines in the cluster\n",
        "NUM_machines = 250\n",
        "NUM_applications = 200"
      ]
    },
    {
      "cell_type": "code",
      "execution_count": null,
      "metadata": {
        "id": "4OuHJmx49zWn"
      },
      "outputs": [],
      "source": [
        "df_user_affinity_matrix = df_affinity_matrix.copy()"
      ]
    },
    {
      "cell_type": "markdown",
      "metadata": {},
      "source": [
        "# Calculate System Affinity Matrix"
      ]
    },
    {
      "cell_type": "code",
      "execution_count": null,
      "metadata": {
        "id": "iQVhC0Asli7G"
      },
      "outputs": [],
      "source": [
        "affinity = np.zeros((df_applications.shape[0], df_machines.shape[0]))\n",
        "for i, application in df_applications.iterrows():\n",
        "    for j, machine in df_machines.iterrows():\n",
        "        for col in ['CPU','IO','NW','Memory']:\n",
        "            if (application[col] > machine[col]):\n",
        "                affinity[i][j] = 0\n",
        "                break;\n",
        "            else:\n",
        "                affinity[i][j] +=  WEIGHTS[col] * (machine[col] - application[col]) / machine[col]\n",
        "df_affinity_matrix = (affinity + df_affinity_matrix) / 2"
      ]
    },
    {
      "cell_type": "code",
      "execution_count": null,
      "metadata": {
        "id": "mrskcJHhBdPi"
      },
      "outputs": [],
      "source": [
        "df_machines = df_machines.head(NUM_machines)\n",
        "df_applications = df_applications.head(NUM_applications)"
      ]
    },
    {
      "cell_type": "markdown",
      "metadata": {},
      "source": [
        "# GCCS"
      ]
    },
    {
      "cell_type": "code",
      "execution_count": null,
      "metadata": {
        "id": "dBWLNHI8jmo8"
      },
      "outputs": [],
      "source": [
        "def get_c():\n",
        "  num_machines = df_machines.shape[0]\n",
        "  num_applications = df_applications.shape[0]\n",
        "  C=[]\n",
        "  for app in range(num_applications):\n",
        "    for mac in range(num_machines):\n",
        "      part1 = (df_machines.loc[mac,'P_max']-df_machines.loc[mac,'P_idle'])*df_applications.loc[app,'CPU']*df_applications.loc[app,'Instances']\n",
        "      \n",
        "      part1 = part1/df_machines.loc[mac,'CPU']\n",
        "      part1 = part1 - (ALPHA*(df_affinity_matrix.loc[app,mac])*df_applications.loc[app,'Instances'])\n",
        "      \n",
        "      C.append(part1)\n",
        "  return C"
      ]
    },
    {
      "cell_type": "code",
      "execution_count": null,
      "metadata": {
        "id": "6DgH2XJ0my8j"
      },
      "outputs": [],
      "source": [
        "def get_A():\n",
        "  num_machines = df_machines.shape[0]\n",
        "  num_applications = df_applications.shape[0]\n",
        "  A=[]\n",
        "  # anti-affinity constraint\n",
        "  list1=[]\n",
        "  for app in range(num_applications):\n",
        "    for mac in range(num_machines):\n",
        "      list1.append(df_anti_affinity_matrix.loc[app,mac])\n",
        "  A.append(list1)\n",
        "  # all instances must be scheduled\n",
        "  for app1 in range(num_applications):\n",
        "    list_temp=[]\n",
        "    for app in range(num_applications):\n",
        "      for mac in range(num_machines):\n",
        "        if(app1==app):\n",
        "          list_temp.append(1)\n",
        "        else:\n",
        "          list_temp.append(0)\n",
        "    A.append(list_temp)\n",
        "  # constraint satisfaction\n",
        "  for col in ['CPU','IO','NW','Memory']:\n",
        "    for mac1 in range(num_machines):\n",
        "      list_temp=[]\n",
        "      for app in range(num_applications):\n",
        "        for mac in range(num_machines):\n",
        "          if(mac1==mac):\n",
        "            list_temp.append(df_applications.loc[app,'Instances']*df_applications.loc[app,col])\n",
        "            # list_temp.append(df_applications.loc[app,col])\n",
        "          else:\n",
        "            list_temp.append(0)\n",
        "      A.append(list_temp)\n",
        "  return A"
      ]
    },
    {
      "cell_type": "code",
      "execution_count": null,
      "metadata": {
        "id": "3_-pvdSMpZT2"
      },
      "outputs": [],
      "source": [
        "def get_var_l():\n",
        "  num_machines = df_machines.shape[0]\n",
        "  num_applications = df_applications.shape[0]\n",
        "  num_vars = num_machines*num_applications\n",
        "  L=[0.0 for i in range(num_vars)]\n",
        "  return L"
      ]
    },
    {
      "cell_type": "code",
      "execution_count": null,
      "metadata": {
        "id": "XVMMOB3Rpdvh"
      },
      "outputs": [],
      "source": [
        "def get_var_u():\n",
        "  num_machines = df_machines.shape[0]\n",
        "  num_applications = df_applications.shape[0]\n",
        "  num_vars = num_machines*num_applications\n",
        "  U=[+inf for i in range(num_vars)]\n",
        "  return U"
      ]
    },
    {
      "cell_type": "code",
      "execution_count": null,
      "metadata": {
        "id": "uio10i4mpfZ7"
      },
      "outputs": [],
      "source": [
        "def get_var_k():\n",
        "  num_machines = df_machines.shape[0]\n",
        "  num_applications = df_applications.shape[0]\n",
        "  num_vars = num_machines*num_applications\n",
        "  K=[mosek.boundkey.lo for i in range(num_vars)]\n",
        "  return K"
      ]
    },
    {
      "cell_type": "code",
      "execution_count": null,
      "metadata": {
        "id": "6500dMWt1269"
      },
      "outputs": [],
      "source": [
        "def get_con_l():\n",
        "  L=[]\n",
        "  L.append(0.0)\n",
        "  num_machines = df_machines.shape[0]\n",
        "  num_applications = df_applications.shape[0]\n",
        "  for i in range(num_applications):\n",
        "    # L.append(df_applications.loc[i,'Instances'])\n",
        "    L.append(1.0)\n",
        "  for col in ['CPU','IO','NW','Memory']:\n",
        "    for mac1 in range(num_machines):\n",
        "      L.append(-inf)\n",
        "  return L"
      ]
    },
    {
      "cell_type": "code",
      "execution_count": null,
      "metadata": {
        "id": "KOEjh-gDjlvx"
      },
      "outputs": [],
      "source": [
        "def get_con_u():\n",
        "  U=[]\n",
        "  U.append(0.0)\n",
        "  num_machines = df_machines.shape[0]\n",
        "  num_applications = df_applications.shape[0]\n",
        "  for i in range(num_applications):\n",
        "    U.append(1.0)\n",
        "    # U.append(df_applications.loc[i,'Instances'])\n",
        "  for col in ['CPU','IO','NW','Memory']:\n",
        "    for mac in range(num_machines):\n",
        "      U.append(df_machines.loc[mac,col])\n",
        "  return U"
      ]
    },
    {
      "cell_type": "code",
      "execution_count": null,
      "metadata": {
        "id": "u5HiChdirJM7"
      },
      "outputs": [],
      "source": [
        "def get_con_k():\n",
        "  K=[]\n",
        "  K.append(mosek.boundkey.fx)\n",
        "  num_machines = df_machines.shape[0]\n",
        "  num_applications = df_applications.shape[0]\n",
        "  for i in range(num_applications):\n",
        "    K.append(mosek.boundkey.fx)\n",
        "  for col in ['CPU','IO','NW','Memory']:\n",
        "    for mac in range(num_machines):\n",
        "      K.append(mosek.boundkey.up)\n",
        "  return K"
      ]
    },
    {
      "cell_type": "code",
      "execution_count": null,
      "metadata": {
        "id": "bpea84TNs3Df"
      },
      "outputs": [],
      "source": [
        "def get_parts(A):\n",
        "  A_sub=[]\n",
        "  A_val=[]\n",
        "  num_machines = df_machines.shape[0]\n",
        "  num_applications = df_applications.shape[0]\n",
        "  num_cols = num_machines *num_applications\n",
        "  num_rows = 1+num_applications +4*num_machines\n",
        "  for col in range(num_cols):\n",
        "    sub_temp=[]\n",
        "    val_temp=[]\n",
        "    for row in range(num_rows):\n",
        "      if(A[row][col]!=0):\n",
        "        sub_temp.append(row)\n",
        "        val_temp.append(A[row][col])\n",
        "    A_sub.append(sub_temp)\n",
        "    A_val.append(val_temp)\n",
        "  return A_sub,A_val"
      ]
    },
    {
      "cell_type": "code",
      "execution_count": null,
      "metadata": {
        "id": "C5i25exUifQs"
      },
      "outputs": [],
      "source": [
        "#  Define a stream printer to grab output from MOSEK\n",
        "def streamprinter(text):\n",
        "    sys.stdout.write(text)\n",
        "    sys.stdout.flush()"
      ]
    },
    {
      "cell_type": "code",
      "execution_count": null,
      "metadata": {
        "id": "43K-89Y7ikVW"
      },
      "outputs": [],
      "source": [
        "def main():\n",
        "  with mosek.Task() as task:\n",
        "    # Attach a log stream printer to the task\n",
        "    task.set_Stream(mosek.streamtype.log, streamprinter)\n",
        "    bkc = get_con_k()\n",
        "    blc = get_con_l()\n",
        "    buc = get_con_u()\n",
        "    bkx = get_var_k()\n",
        "    blx = get_var_l()\n",
        "    bux = get_var_u()\n",
        "    c =get_c()\n",
        "    A = get_A()\n",
        "    asub,aval=get_parts(A)\n",
        "    numvar=len(bkx)\n",
        "    numcon=len(bkc)\n",
        "    task.appendcons(numcon)\n",
        "    task.appendvars(numvar)\n",
        "    for j in range(numvar):\n",
        "      # Set the linear term c_j in the objective.\n",
        "      task.putcj(j, c[j])\n",
        "\n",
        "      # Set the bounds on variable j\n",
        "      # blx[j] <= x_j <= bux[j]\n",
        "      task.putvarbound(j, bkx[j], blx[j], bux[j])\n",
        "\n",
        "      # Input column j of A\n",
        "      task.putacol(j,                  # Variable (column) index.\n",
        "                    asub[j],            # Row index of non-zeros in column j.\n",
        "                    aval[j])\n",
        "    for i in range(numcon):\n",
        "            task.putconbound(i, bkc[i], blc[i], buc[i])\n",
        "    task.putobjsense(mosek.objsense.minimize)\n",
        "    task.optimize()\n",
        "    task.solutionsummary(mosek.streamtype.msg)\n",
        "    solsta = task.getsolsta(mosek.soltype.bas)\n",
        "    if (solsta == mosek.solsta.optimal):\n",
        "            xx = task.getxx(mosek.soltype.bas)\n",
        "            global GLOBAL_ANS\n",
        "            GLOBAL_ANS = xx\n",
        "    elif (solsta == mosek.solsta.dual_infeas_cer or\n",
        "          solsta == mosek.solsta.prim_infeas_cer):\n",
        "        print(\"Primal or dual infeasibility certificate found.\\n\")\n",
        "    elif solsta == mosek.solsta.unknown:\n",
        "        print(\"Unknown solution status\")\n",
        "    else:\n",
        "        print(\"Other solution status\")"
      ]
    },
    {
      "cell_type": "code",
      "execution_count": null,
      "metadata": {
        "id": "oO9Pw4OUvEhF"
      },
      "outputs": [],
      "source": [
        "try:\n",
        "    main()\n",
        "except mosek.MosekException as msg:\n",
        "    #print \"ERROR: %s\" % str(code)\n",
        "    if msg is not None:\n",
        "        print(\"\\t%s\" % msg)\n",
        "        sys.exit(1)\n",
        "except:\n",
        "    import traceback\n",
        "    traceback.print_exc()\n",
        "    sys.exit(1)"
      ]
    },
    {
      "cell_type": "code",
      "execution_count": null,
      "metadata": {
        "id": "Ddxqe3UBvKXA"
      },
      "outputs": [],
      "source": [
        "# looking at B*\n",
        "def get_B_star():\n",
        "  num_machines = df_machines.shape[0]\n",
        "  num_applications = df_applications.shape[0]\n",
        "  B=[]\n",
        "  for app in range(num_applications):\n",
        "      b_temp=[]\n",
        "      for mac in range(num_machines):\n",
        "        b_temp.append(GLOBAL_ANS[app*num_machines + mac]*df_applications.loc[app,'Instances'])\n",
        "      B.append(b_temp)\n",
        "  return B"
      ]
    },
    {
      "cell_type": "markdown",
      "metadata": {},
      "source": [
        "# Utility Functions"
      ]
    },
    {
      "cell_type": "code",
      "execution_count": null,
      "metadata": {
        "id": "1rmiKUoaz3uJ"
      },
      "outputs": [],
      "source": [
        "def calculate_utilization(df_allocation_matrix, df_applications, df_machines):\n",
        "    df_allocation_copy = df_allocation_matrix.copy()\n",
        "    for i, application in df_applications.iterrows():\n",
        "\n",
        "        df_allocation_copy.loc[i] = df_allocation_copy.loc[i] * application['CPU']\n",
        "    return df_allocation_copy.sum() / df_machines['CPU']\n"
      ]
    },
    {
      "cell_type": "code",
      "execution_count": null,
      "metadata": {
        "id": "fRZIUZ9760VU"
      },
      "outputs": [],
      "source": [
        "def calculate_total_power_cost(df_allocation_matrix, df_applications, df_machines):\n",
        "    utilization = calculate_utilization(df_allocation_matrix, df_applications, df_machines)\n",
        "    power_consumed = df_machines['P_idle'] + (df_machines['P_max'] - df_machines['P_idle']) * (utilization ** 3)\n",
        "    return power_consumed.sum()"
      ]
    },
    {
      "cell_type": "code",
      "execution_count": null,
      "metadata": {
        "id": "HDiK9WUk61Bt"
      },
      "outputs": [],
      "source": [
        "def calculate_total_affinity_cost(df_allocation_matrix, df_affinity_matrix):\n",
        "\n",
        "    # affinity_cost = df_allocation_matrix * df_affinity_matrix\n",
        "    affinity_cost  = df_allocation_matrix.copy()\n",
        "    num_machines = df_machines.shape[0]\n",
        "    num_applications = df_applications.shape[0]\n",
        "    for app in range(num_applications):\n",
        "      for mac in range(num_machines):\n",
        "        affinity_cost.loc[app,mac] = affinity_cost.loc[app,mac]*df_affinity_matrix.loc[app,mac]\n",
        "\n",
        "    return affinity_cost.sum().sum()"
      ]
    },
    {
      "cell_type": "code",
      "execution_count": null,
      "metadata": {
        "id": "XYY51tSs63e4"
      },
      "outputs": [],
      "source": [
        "def calculate_total_system_cost(power_cost, affinity_cost):\n",
        "    total_cost = power_cost - ALPHA * affinity_cost\n",
        "    return total_cost"
      ]
    },
    {
      "cell_type": "code",
      "execution_count": null,
      "metadata": {
        "id": "CB-INM5967Zc"
      },
      "outputs": [],
      "source": [
        "\n",
        "def calculate_number_of_unused_machines(df_allocation_matrix):\n",
        "    col_sums = df_allocation_matrix.sum()\n",
        "    zero_count = (col_sums == 0).sum()\n",
        "    return zero_count"
      ]
    },
    {
      "cell_type": "code",
      "execution_count": null,
      "metadata": {
        "id": "zQhigXn9-yWh"
      },
      "outputs": [],
      "source": [
        "def calculate_ASR(df_allocation_matrix):\n",
        "  df_allocation_copy = df_allocation_matrix.copy()\n",
        "  # num_instances = df_allocation_copy.sum().sum()\n",
        "  num_instances = df_applications['Instances'].sum()\n",
        "  num_machines = df_machines.shape[0]\n",
        "  num_applications = df_applications.shape[0]\n",
        "  for app in range(num_applications):\n",
        "    for mac in range(num_machines):\n",
        "      df_allocation_copy.loc[app,mac] = df_allocation_copy.loc[app,mac]*df_user_affinity_matrix.loc[app,mac]\n",
        "  # df_allocation_copy = df_allocation_copy*df_user_affinity_matrix\n",
        "  num_affine = df_allocation_copy.sum().sum()\n",
        "  return num_affine/num_instances"
      ]
    },
    {
      "cell_type": "code",
      "execution_count": null,
      "metadata": {
        "id": "7EeHnO4t_dLl"
      },
      "outputs": [],
      "source": [
        "def calculate_AU(df_allocation_matrix):\n",
        "  utilization = calculate_utilization(df_allocation_matrix, df_applications, df_machines)\n",
        "  return utilization.mean()"
      ]
    },
    {
      "cell_type": "code",
      "execution_count": null,
      "metadata": {},
      "outputs": [],
      "source": [
        "# print(len(GLOBAL_ANS))\n",
        "df_allocation_matrix = GLOBAL_ANS_QUAD\n",
        "B_star = get_B_star()"
      ]
    },
    {
      "cell_type": "markdown",
      "metadata": {},
      "source": [
        "# Converting to Integer solution"
      ]
    },
    {
      "cell_type": "code",
      "execution_count": null,
      "metadata": {
        "id": "YBduflzlpVBt"
      },
      "outputs": [],
      "source": [
        "def find_resources_left(df_allocation_matrix):\n",
        "    df_remaining = df_machines.copy()\n",
        "    for m in range(df_machines.shape[0]):\n",
        "        for a in range(df_applications.shape[0]):\n",
        "            for col in ['CPU','NW','IO','Memory']:\n",
        "                df_remaining.loc[m,col] = df_remaining.loc[m,col] - df_allocation_matrix.loc[a,m]*df_applications.loc[a,col]\n",
        "    return df_remaining"
      ]
    },
    {
      "cell_type": "code",
      "execution_count": null,
      "metadata": {
        "id": "wx8AUQc6rO4k"
      },
      "outputs": [],
      "source": [
        "def find_max(df_allocation_matrix):\n",
        "  max_r =0\n",
        "  max_c =0\n",
        "  max_val=0\n",
        "  for m in range(df_machines.shape[0]):\n",
        "        for a in range(df_applications.shape[0]):\n",
        "          if(df_allocation_matrix.loc[max_r,max_c]<df_allocation_matrix.loc[a,m]):\n",
        "            max_r=a\n",
        "            max_c=m\n",
        "            max_val = df_allocation_matrix.loc[max_r,max_c]\n",
        "  return max_r,max_c,max_val"
      ]
    },
    {
      "cell_type": "code",
      "execution_count": null,
      "metadata": {
        "id": "j_YDrA9Moau-"
      },
      "outputs": [],
      "source": [
        "def get_B_final(B_star):\n",
        "  B_star = pd.DataFrame(B_star)\n",
        "  B_dash = B_star.copy()\n",
        "  num_machines = df_machines.shape[0]\n",
        "  num_applications = df_applications.shape[0]\n",
        "  for app in range(num_applications):\n",
        "    for mac in range(num_machines):\n",
        "      B_dash.loc[app,mac]=int(B_star.loc[app,mac])\n",
        "  B_star_res = B_star-B_dash\n",
        "  v_remain = find_resources_left(B_dash)\n",
        "  Res_instances = df_applications['Instances']-B_dash.sum(axis=1)\n",
        "  # Res\n",
        "  while Res_instances.sum() !=0 :\n",
        "    pos_r,pos_c,val = find_max(B_star_res)\n",
        "    # print(pos_r,pos_c,val)\n",
        "    if(val==-1):\n",
        "      print('hadd hai!!')\n",
        "      break\n",
        "    if(Res_instances[pos_r]==0):\n",
        "      B_star_res.loc[pos_r,pos_c]=-1\n",
        "      continue\n",
        "    yes =1\n",
        "    for col in ['CPU','IO','NW','Memory']:\n",
        "      if(v_remain.loc[pos_c,col] - df_applications.loc[pos_r,col]<0):\n",
        "        yes=0\n",
        "    if(yes==1):\n",
        "      B_dash.loc[pos_r,pos_c] = B_dash.loc[pos_r,pos_c] +1\n",
        "      for col in ['CPU','IO','NW','Memory']:\n",
        "        v_remain.loc[pos_c,col]=v_remain.loc[pos_c,col] - df_applications.loc[pos_r,col]\n",
        "      Res_instances[pos_r] =Res_instances[pos_r]-1\n",
        "    B_star_res.loc[pos_r,pos_c]=-1\n",
        "  return B_dash"
      ]
    },
    {
      "cell_type": "code",
      "execution_count": null,
      "metadata": {
        "id": "1fC-tbZTvSaX"
      },
      "outputs": [],
      "source": [
        "def getmatrix(A):\n",
        "  num_machines = df_machines.shape[0]\n",
        "  num_applications = df_applications.shape[0]\n",
        "  B=[]\n",
        "  sum=0\n",
        "  for app in range(num_applications):\n",
        "      b_temp=[]\n",
        "      for mac in range(num_machines):\n",
        "        b_temp.append(GLOBAL_ANS[app*num_machines + mac])\n",
        "        sum+=GLOBAL_ANS[app*num_machines + mac]\n",
        "      B.append(b_temp)\n",
        "  return B,sum"
      ]
    },
    {
      "cell_type": "code",
      "execution_count": null,
      "metadata": {},
      "outputs": [],
      "source": [
        "df_allocation_matrix = get_B_final(B_star)\n",
        "\n",
        "pc = calculate_total_power_cost(df_allocation_matrix, df_applications, df_machines)\n",
        "ac = calculate_total_affinity_cost(df_allocation_matrix, df_affinity_matrix)\n",
        "tc = calculate_total_system_cost(pc, ac)\n",
        "asr = calculate_ASR(df_allocation_matrix)\n",
        "acu = calculate_AU(df_allocation_matrix)\n",
        "\n",
        "print(pc,ac,tc,asr,acu)"
      ]
    }
  ],
  "metadata": {
    "colab": {
      "provenance": []
    },
    "kernelspec": {
      "display_name": "Python 3",
      "name": "python3"
    },
    "language_info": {
      "name": "python"
    }
  },
  "nbformat": 4,
  "nbformat_minor": 0
}
