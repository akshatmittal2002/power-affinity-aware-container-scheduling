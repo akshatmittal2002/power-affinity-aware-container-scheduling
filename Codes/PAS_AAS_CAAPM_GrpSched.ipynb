{
 "cells": [
  {
   "cell_type": "markdown",
   "id": "5d6a85da",
   "metadata": {
    "papermill": {
     "duration": 0.016132,
     "end_time": "2024-04-21T17:22:24.116159",
     "exception": false,
     "start_time": "2024-04-21T17:22:24.100027",
     "status": "completed"
    },
    "tags": []
   },
   "source": [
    "# Import Libraries"
   ]
  },
  {
   "cell_type": "code",
   "execution_count": 4,
   "id": "9936215f",
   "metadata": {
    "execution": {
     "iopub.execute_input": "2024-04-21T17:22:24.150225Z",
     "iopub.status.busy": "2024-04-21T17:22:24.149746Z",
     "iopub.status.idle": "2024-04-21T17:22:25.196947Z",
     "shell.execute_reply": "2024-04-21T17:22:25.195654Z"
    },
    "papermill": {
     "duration": 1.067912,
     "end_time": "2024-04-21T17:22:25.199960",
     "exception": false,
     "start_time": "2024-04-21T17:22:24.132048",
     "status": "completed"
    },
    "tags": []
   },
   "outputs": [],
   "source": [
    "import numpy as np\n",
    "import pandas as pd\n",
    "import random\n",
    "import math"
   ]
  },
  {
   "cell_type": "markdown",
   "id": "71a0c9ea",
   "metadata": {
    "papermill": {
     "duration": 0.017119,
     "end_time": "2024-04-21T17:22:25.233871",
     "exception": false,
     "start_time": "2024-04-21T17:22:25.216752",
     "status": "completed"
    },
    "tags": []
   },
   "source": [
    "# Constants Initialization"
   ]
  },
  {
   "cell_type": "code",
   "execution_count": 5,
   "id": "5d7bfcdf",
   "metadata": {
    "execution": {
     "iopub.execute_input": "2024-04-21T17:22:25.271376Z",
     "iopub.status.busy": "2024-04-21T17:22:25.270872Z",
     "iopub.status.idle": "2024-04-21T17:22:25.278105Z",
     "shell.execute_reply": "2024-04-21T17:22:25.276867Z"
    },
    "papermill": {
     "duration": 0.030015,
     "end_time": "2024-04-21T17:22:25.280808",
     "exception": false,
     "start_time": "2024-04-21T17:22:25.250793",
     "status": "completed"
    },
    "tags": []
   },
   "outputs": [],
   "source": [
    "ALPHA = 4\n",
    "\n",
    "# affinity weights\n",
    "WEIGHTS = {\n",
    "    'CPU' : 0.4,\n",
    "    'IO' : 0.2,\n",
    "    'NW' : 0.2,\n",
    "    'Memory' : 0.2\n",
    "}\n",
    "\n",
    "# genetic algorithm\n",
    "NUMBER_OF_GA_ITERS = 50\n",
    "POPULATION_SIZE = 20\n",
    "NUM_NEW_POPULATION = 10\n",
    "MUTATION_PROB = 0.75\n",
    "\n",
    "# simulated annealing\n",
    "NUMBER_OF_SA_ITERS = 5000\n",
    "STEP_SIZE = 5\n",
    "TEMP = 100\n",
    "NUMBER_OF_NEW_CAND_ITERS = 1000"
   ]
  },
  {
   "cell_type": "markdown",
   "id": "2686a53d",
   "metadata": {
    "papermill": {
     "duration": 0.015785,
     "end_time": "2024-04-21T17:22:25.312753",
     "exception": false,
     "start_time": "2024-04-21T17:22:25.296968",
     "status": "completed"
    },
    "tags": []
   },
   "source": [
    "# Load Dataset"
   ]
  },
  {
   "cell_type": "code",
   "execution_count": 6,
   "id": "1a6490cc",
   "metadata": {
    "execution": {
     "iopub.execute_input": "2024-04-21T17:22:25.346466Z",
     "iopub.status.busy": "2024-04-21T17:22:25.346066Z",
     "iopub.status.idle": "2024-04-21T17:22:25.460501Z",
     "shell.execute_reply": "2024-04-21T17:22:25.458984Z"
    },
    "papermill": {
     "duration": 0.134953,
     "end_time": "2024-04-21T17:22:25.463389",
     "exception": false,
     "start_time": "2024-04-21T17:22:25.328436",
     "status": "completed"
    },
    "tags": []
   },
   "outputs": [],
   "source": [
    "df_machines = pd.read_csv('../Datasets/Real-life Dataset/Machines_250.csv')\n",
    "df_applications = pd.read_csv('../Datasets/Real-life Dataset/Applications_200.csv')\n",
    "df_anti_affinity_matrix = pd.read_csv('../Datasets/Real-life Dataset/Anti_Affinity_Matrix_200_250.csv')\n",
    "df_user_affinity_matrix = pd.read_csv('../Datasets/Real-life Dataset/Affinity_Matrix_200_250.csv')\n",
    "\n",
    "# df_machines = pd.read_csv('../Datasets/Synthetic Dataset/Machines.csv')\n",
    "# df_applications = pd.read_csv('../Datasets/Synthetic Dataset/Applications.csv')\n",
    "# df_anti_affinity_matrix = pd.read_csv('../Datasets/Synthetic Dataset/Anti_Affinity_Matrix.csv')\n",
    "# df_user_affinity_matrix = pd.read_csv('../Datasets/Synthetic Dataset/Affinity_Matrix.csv')\n",
    "\n",
    "df_machines = df_machines.loc[:, ~df_machines.columns.str.contains('^Unnamed')]\n",
    "df_applications = df_applications.loc[:, ~df_applications.columns.str.contains('^Unnamed')]\n",
    "df_anti_affinity_matrix = df_anti_affinity_matrix.loc[:, ~df_anti_affinity_matrix.columns.str.contains('^Unnamed')]\n",
    "df_user_affinity_matrix = df_user_affinity_matrix.loc[:, ~df_user_affinity_matrix.columns.str.contains('^Unnamed')]\n",
    "\n",
    "df_anti_affinity_matrix.columns = pd.to_numeric(df_anti_affinity_matrix.columns, errors='coerce')\n",
    "df_user_affinity_matrix.columns = pd.to_numeric(df_user_affinity_matrix.columns, errors='coerce')\n",
    "\n",
    "df_machines['Index'] = df_machines.index\n",
    "df_applications['Index'] = df_applications.index"
   ]
  },
  {
   "cell_type": "markdown",
   "id": "45b5584a",
   "metadata": {
    "papermill": {
     "duration": 0.015409,
     "end_time": "2024-04-21T17:22:25.494757",
     "exception": false,
     "start_time": "2024-04-21T17:22:25.479348",
     "status": "completed"
    },
    "tags": []
   },
   "source": [
    "# Calculate Affinity Matrix"
   ]
  },
  {
   "cell_type": "code",
   "execution_count": 7,
   "id": "8efbb4cb",
   "metadata": {
    "execution": {
     "iopub.execute_input": "2024-04-21T17:22:25.529548Z",
     "iopub.status.busy": "2024-04-21T17:22:25.529163Z",
     "iopub.status.idle": "2024-04-21T17:22:33.434376Z",
     "shell.execute_reply": "2024-04-21T17:22:33.433247Z"
    },
    "papermill": {
     "duration": 7.926776,
     "end_time": "2024-04-21T17:22:33.437241",
     "exception": false,
     "start_time": "2024-04-21T17:22:25.510465",
     "status": "completed"
    },
    "tags": []
   },
   "outputs": [],
   "source": [
    "affinity = np.zeros((df_applications.shape[0], df_machines.shape[0]))\n",
    "for i, application in df_applications.iterrows():\n",
    "    for j, machine in df_machines.iterrows():\n",
    "        for col in ['CPU','IO','NW','Memory']:\n",
    "            if (application[col] > machine[col]):\n",
    "                affinity[i][j] = 0\n",
    "                break;\n",
    "            else:\n",
    "                affinity[i][j] +=  WEIGHTS[col] * (machine[col] - application[col]) / machine[col]\n",
    "df_affinity_matrix = (affinity + df_user_affinity_matrix) / 2"
   ]
  },
  {
   "cell_type": "markdown",
   "id": "51543b64",
   "metadata": {
    "papermill": {
     "duration": 0.015762,
     "end_time": "2024-04-21T17:22:33.468633",
     "exception": false,
     "start_time": "2024-04-21T17:22:33.452871",
     "status": "completed"
    },
    "tags": []
   },
   "source": [
    "# General Helper Functions"
   ]
  },
  {
   "cell_type": "code",
   "execution_count": 8,
   "id": "dd3eeb6c",
   "metadata": {
    "execution": {
     "iopub.execute_input": "2024-04-21T17:22:33.502282Z",
     "iopub.status.busy": "2024-04-21T17:22:33.501900Z",
     "iopub.status.idle": "2024-04-21T17:22:33.508623Z",
     "shell.execute_reply": "2024-04-21T17:22:33.507364Z"
    },
    "papermill": {
     "duration": 0.026382,
     "end_time": "2024-04-21T17:22:33.511128",
     "exception": false,
     "start_time": "2024-04-21T17:22:33.484746",
     "status": "completed"
    },
    "tags": []
   },
   "outputs": [],
   "source": [
    "def calculate_utilization(df_allocation_matrix, df_applications, df_machines):\n",
    "    df_allocation_copy = df_allocation_matrix.copy()\n",
    "    for i, application in df_applications.iterrows():\n",
    "        df_allocation_copy.loc[i] = df_allocation_copy.loc[i] * application['CPU']\n",
    "    return df_allocation_copy.sum() / df_machines['CPU']"
   ]
  },
  {
   "cell_type": "code",
   "execution_count": 9,
   "id": "a055663c",
   "metadata": {
    "execution": {
     "iopub.execute_input": "2024-04-21T17:22:33.544403Z",
     "iopub.status.busy": "2024-04-21T17:22:33.544023Z",
     "iopub.status.idle": "2024-04-21T17:22:33.550396Z",
     "shell.execute_reply": "2024-04-21T17:22:33.549278Z"
    },
    "papermill": {
     "duration": 0.025835,
     "end_time": "2024-04-21T17:22:33.552884",
     "exception": false,
     "start_time": "2024-04-21T17:22:33.527049",
     "status": "completed"
    },
    "tags": []
   },
   "outputs": [],
   "source": [
    "def calculate_total_power_cost(df_allocation_matrix, df_applications, df_machines):\n",
    "    utilization = calculate_utilization(df_allocation_matrix, df_applications, df_machines)\n",
    "    power_consumed = df_machines['P_idle'] + (df_machines['P_max'] - df_machines['P_idle']) * (utilization ** 3)\n",
    "    return power_consumed.sum()"
   ]
  },
  {
   "cell_type": "code",
   "execution_count": 10,
   "id": "7324fa1c",
   "metadata": {
    "execution": {
     "iopub.execute_input": "2024-04-21T17:22:33.586165Z",
     "iopub.status.busy": "2024-04-21T17:22:33.585348Z",
     "iopub.status.idle": "2024-04-21T17:22:33.591222Z",
     "shell.execute_reply": "2024-04-21T17:22:33.589986Z"
    },
    "papermill": {
     "duration": 0.025356,
     "end_time": "2024-04-21T17:22:33.593914",
     "exception": false,
     "start_time": "2024-04-21T17:22:33.568558",
     "status": "completed"
    },
    "tags": []
   },
   "outputs": [],
   "source": [
    "def calculate_total_affinity_cost(df_allocation_matrix, df_affinity_matrix):\n",
    "    affinity_cost = df_allocation_matrix * df_affinity_matrix\n",
    "    return affinity_cost.sum().sum()"
   ]
  },
  {
   "cell_type": "code",
   "execution_count": 11,
   "id": "353e9330",
   "metadata": {
    "execution": {
     "iopub.execute_input": "2024-04-21T17:22:33.627073Z",
     "iopub.status.busy": "2024-04-21T17:22:33.626624Z",
     "iopub.status.idle": "2024-04-21T17:22:33.632627Z",
     "shell.execute_reply": "2024-04-21T17:22:33.631454Z"
    },
    "papermill": {
     "duration": 0.025613,
     "end_time": "2024-04-21T17:22:33.635170",
     "exception": false,
     "start_time": "2024-04-21T17:22:33.609557",
     "status": "completed"
    },
    "tags": []
   },
   "outputs": [],
   "source": [
    "def calculate_total_system_cost(power_cost, affinity_cost):\n",
    "    total_cost = power_cost - ALPHA * affinity_cost\n",
    "    return total_cost"
   ]
  },
  {
   "cell_type": "code",
   "execution_count": 12,
   "id": "fd633564",
   "metadata": {
    "execution": {
     "iopub.execute_input": "2024-04-21T17:22:33.668707Z",
     "iopub.status.busy": "2024-04-21T17:22:33.668322Z",
     "iopub.status.idle": "2024-04-21T17:22:33.674749Z",
     "shell.execute_reply": "2024-04-21T17:22:33.673343Z"
    },
    "papermill": {
     "duration": 0.026505,
     "end_time": "2024-04-21T17:22:33.677376",
     "exception": false,
     "start_time": "2024-04-21T17:22:33.650871",
     "status": "completed"
    },
    "tags": []
   },
   "outputs": [],
   "source": [
    "def calculate_number_of_unused_machines(df_allocation_matrix):\n",
    "    col_sums = df_allocation_matrix.sum()\n",
    "    zero_count = (col_sums == 0).sum()\n",
    "    return zero_count"
   ]
  },
  {
   "cell_type": "code",
   "execution_count": 13,
   "id": "85a0665b",
   "metadata": {
    "execution": {
     "iopub.execute_input": "2024-04-21T17:22:33.712518Z",
     "iopub.status.busy": "2024-04-21T17:22:33.712146Z",
     "iopub.status.idle": "2024-04-21T17:22:33.719025Z",
     "shell.execute_reply": "2024-04-21T17:22:33.717822Z"
    },
    "papermill": {
     "duration": 0.028264,
     "end_time": "2024-04-21T17:22:33.722164",
     "exception": false,
     "start_time": "2024-04-21T17:22:33.693900",
     "status": "completed"
    },
    "tags": []
   },
   "outputs": [],
   "source": [
    "def calculate_average_affinity_satisfaction_ratio(df_applications, df_machines, df_allocation_matrix, df_user_affinity_matrix):\n",
    "    result = 0\n",
    "    for i in range(df_applications.shape[0]):\n",
    "        for j in range(df_machines.shape[0]):\n",
    "            result = result + df_allocation_matrix.loc[i,j] * df_user_affinity_matrix.loc[i,j]\n",
    "    \n",
    "    return result / df_applications['Instances'].sum()"
   ]
  },
  {
   "cell_type": "code",
   "execution_count": 14,
   "id": "e4d96309",
   "metadata": {
    "execution": {
     "iopub.execute_input": "2024-04-21T17:22:33.755080Z",
     "iopub.status.busy": "2024-04-21T17:22:33.754699Z",
     "iopub.status.idle": "2024-04-21T17:22:33.760466Z",
     "shell.execute_reply": "2024-04-21T17:22:33.759160Z"
    },
    "papermill": {
     "duration": 0.025286,
     "end_time": "2024-04-21T17:22:33.763154",
     "exception": false,
     "start_time": "2024-04-21T17:22:33.737868",
     "status": "completed"
    },
    "tags": []
   },
   "outputs": [],
   "source": [
    "def calculate_average_utilization(df_allocation_matrix, df_applications, df_machines):\n",
    "    utilization = calculate_utilization(df_allocation_matrix, df_applications, df_machines)\n",
    "    return utilization.sum() / df_machines.shape[0]"
   ]
  },
  {
   "cell_type": "markdown",
   "id": "64b34a2f",
   "metadata": {
    "papermill": {
     "duration": 0.015352,
     "end_time": "2024-04-21T17:22:33.794445",
     "exception": false,
     "start_time": "2024-04-21T17:22:33.779093",
     "status": "completed"
    },
    "tags": []
   },
   "source": [
    "# Genetic Algorithm"
   ]
  },
  {
   "cell_type": "code",
   "execution_count": 15,
   "id": "1adb0f8e",
   "metadata": {
    "execution": {
     "iopub.execute_input": "2024-04-21T17:22:33.828112Z",
     "iopub.status.busy": "2024-04-21T17:22:33.827715Z",
     "iopub.status.idle": "2024-04-21T17:22:33.834248Z",
     "shell.execute_reply": "2024-04-21T17:22:33.833048Z"
    },
    "papermill": {
     "duration": 0.026412,
     "end_time": "2024-04-21T17:22:33.836746",
     "exception": false,
     "start_time": "2024-04-21T17:22:33.810334",
     "status": "completed"
    },
    "tags": []
   },
   "outputs": [],
   "source": [
    "def find_num(machine, application):\n",
    "    res = []\n",
    "    for col in ['CPU','IO','NW','Memory']:\n",
    "        res.append(int(machine[col]/application[col]));\n",
    "    return min(res);"
   ]
  },
  {
   "cell_type": "code",
   "execution_count": 16,
   "id": "e071ddd4",
   "metadata": {
    "execution": {
     "iopub.execute_input": "2024-04-21T17:22:33.870237Z",
     "iopub.status.busy": "2024-04-21T17:22:33.869851Z",
     "iopub.status.idle": "2024-04-21T17:22:33.880932Z",
     "shell.execute_reply": "2024-04-21T17:22:33.879686Z"
    },
    "papermill": {
     "duration": 0.031352,
     "end_time": "2024-04-21T17:22:33.883784",
     "exception": false,
     "start_time": "2024-04-21T17:22:33.852432",
     "status": "completed"
    },
    "tags": []
   },
   "outputs": [],
   "source": [
    "def random_ffa(df_machines,df_applications,df_affinity_matrix,df_anti_affinity_matrix):\n",
    "    df_remains = df_machines.copy()\n",
    "    df_allocation_matrix = pd.DataFrame(np.zeros((df_applications.shape[0], df_machines.shape[0]), dtype=int))\n",
    "    random_machine_index_list = random.sample(range(df_machines.shape[0]), df_machines.shape[0])\n",
    "    for index_application, row_application in df_applications.iterrows():\n",
    "        instances_remaining = row_application['Instances']\n",
    "        for index_machine in random_machine_index_list:\n",
    "            if(df_anti_affinity_matrix.loc[index_application,index_machine] == 1):\n",
    "                continue;\n",
    "            instances_on_this_machine = find_num(df_remains.loc[index_machine],row_application);\n",
    "            instances_on_this_machine = min(instances_on_this_machine,instances_remaining)\n",
    "            df_allocation_matrix.loc[index_application,index_machine] = instances_on_this_machine\n",
    "            instances_remaining -= instances_on_this_machine\n",
    "            for col in ['CPU','IO','NW','Memory']:\n",
    "                df_remains.loc[index_machine,col] = df_remains.loc[index_machine,col] - instances_on_this_machine * row_application[col]\n",
    "    return df_allocation_matrix;"
   ]
  },
  {
   "cell_type": "code",
   "execution_count": 17,
   "id": "a72857b5",
   "metadata": {
    "execution": {
     "iopub.execute_input": "2024-04-21T17:22:33.916845Z",
     "iopub.status.busy": "2024-04-21T17:22:33.916382Z",
     "iopub.status.idle": "2024-04-21T17:22:33.923632Z",
     "shell.execute_reply": "2024-04-21T17:22:33.922247Z"
    },
    "papermill": {
     "duration": 0.026894,
     "end_time": "2024-04-21T17:22:33.926290",
     "exception": false,
     "start_time": "2024-04-21T17:22:33.899396",
     "status": "completed"
    },
    "tags": []
   },
   "outputs": [],
   "source": [
    "def generate_suitable_candidate(df_machines,df_applications,df_affinity_matrix,df_anti_affinity_matrix):\n",
    "    instances_required = df_applications['Instances'].sum()\n",
    "    while(True):\n",
    "        df_soln = random_ffa(df_machines,df_applications,df_affinity_matrix,df_anti_affinity_matrix)\n",
    "        instances_scheduled = df_soln.sum().sum()\n",
    "        if(instances_scheduled == instances_required):\n",
    "            return df_soln"
   ]
  },
  {
   "cell_type": "code",
   "execution_count": 18,
   "id": "33dc1494",
   "metadata": {
    "execution": {
     "iopub.execute_input": "2024-04-21T17:22:33.961049Z",
     "iopub.status.busy": "2024-04-21T17:22:33.960680Z",
     "iopub.status.idle": "2024-04-21T17:22:33.966803Z",
     "shell.execute_reply": "2024-04-21T17:22:33.965651Z"
    },
    "papermill": {
     "duration": 0.02646,
     "end_time": "2024-04-21T17:22:33.969238",
     "exception": false,
     "start_time": "2024-04-21T17:22:33.942778",
     "status": "completed"
    },
    "tags": []
   },
   "outputs": [],
   "source": [
    "def generate_population(df_machines,df_applications,df_affinity_matrix,df_anti_affinity_matrix):\n",
    "    solution_list = []\n",
    "    for i in range(POPULATION_SIZE):\n",
    "        one_soln = generate_suitable_candidate(df_machines,df_applications,df_affinity_matrix,df_anti_affinity_matrix)\n",
    "        solution_list.append(one_soln)\n",
    "    return solution_list"
   ]
  },
  {
   "cell_type": "code",
   "execution_count": 19,
   "id": "df090ce3",
   "metadata": {
    "execution": {
     "iopub.execute_input": "2024-04-21T17:22:34.002304Z",
     "iopub.status.busy": "2024-04-21T17:22:34.001877Z",
     "iopub.status.idle": "2024-04-21T17:22:34.009846Z",
     "shell.execute_reply": "2024-04-21T17:22:34.008250Z"
    },
    "papermill": {
     "duration": 0.028065,
     "end_time": "2024-04-21T17:22:34.012857",
     "exception": false,
     "start_time": "2024-04-21T17:22:33.984792",
     "status": "completed"
    },
    "tags": []
   },
   "outputs": [],
   "source": [
    "def find_reources_left(new_individual,df_machines,df_applications,df_affinity_matrix,df_anti_affinity_matrix):\n",
    "    df_remaining = df_machines.copy()\n",
    "    for m in range(df_machines.shape[0]):\n",
    "        for a in range(df_applications.shape[0]):\n",
    "            for col in ['CPU','NW','IO','Memory']:\n",
    "                df_remaining.loc[m,col] = df_remaining.loc[m,col] - new_individual.loc[a,m]*df_applications.loc[a,col]\n",
    "    return df_remaining"
   ]
  },
  {
   "cell_type": "code",
   "execution_count": 20,
   "id": "acf53b36",
   "metadata": {
    "execution": {
     "iopub.execute_input": "2024-04-21T17:22:34.111106Z",
     "iopub.status.busy": "2024-04-21T17:22:34.110677Z",
     "iopub.status.idle": "2024-04-21T17:22:34.125955Z",
     "shell.execute_reply": "2024-04-21T17:22:34.124666Z"
    },
    "papermill": {
     "duration": 0.035576,
     "end_time": "2024-04-21T17:22:34.128718",
     "exception": false,
     "start_time": "2024-04-21T17:22:34.093142",
     "status": "completed"
    },
    "tags": []
   },
   "outputs": [],
   "source": [
    "def correct_the_individual(new_individual,df_machines,df_applications,df_affinity_matrix,df_anti_affinity_matrix):\n",
    "#     remove all overflowing applications\n",
    "    for m in range(df_machines.shape[0]):\n",
    "        m_capacity = dict()\n",
    "        m_filled = dict()\n",
    "        yes = 0\n",
    "        for col in ['CPU','NW','IO','Memory']:\n",
    "            m_capacity[col] = df_machines.loc[m,col]\n",
    "            m_filled[col] = 0\n",
    "        for a in range(df_applications.shape[0]):\n",
    "            if(yes == 1):\n",
    "                new_individual.loc[a,m] = 0;\n",
    "            else:\n",
    "                number_of_instances = new_individual.loc[a,m]\n",
    "                for col in ['CPU','NW','IO','Memory']:\n",
    "                    m_filled[col] = m_filled[col] + df_applications.loc[a,col] * number_of_instances\n",
    "                for col in ['CPU','NW','IO','Memory']:\n",
    "                    if(m_filled[col] > m_capacity[col]):\n",
    "                        yes = 1\n",
    "\n",
    "#     fill all the remaining instances of applications in ffa\n",
    "    df_remaining = find_reources_left(new_individual,df_machines,df_applications,df_affinity_matrix,df_anti_affinity_matrix)\n",
    "    for a in range(df_applications.shape[0]):\n",
    "        number_of_instances_required = df_applications.loc[a,'Instances']\n",
    "        number_of_instances_scheduled = new_individual.loc[a,:].sum()\n",
    "        number_of_instances_remaining = number_of_instances_required - number_of_instances_scheduled;\n",
    "        for num in range(int(number_of_instances_remaining)):\n",
    "            for m in range(df_machines.shape[0]):\n",
    "                t_yes = 0\n",
    "                for col in ['CPU','NW','IO','Memory']:\n",
    "                    if(df_remaining.loc[m,col] < df_applications.loc[a,col]):\n",
    "                        t_yes = 1;\n",
    "                if(t_yes == 0):\n",
    "                    new_individual.loc[a,m] = new_individual.loc[a,m]+1;\n",
    "                    for col in ['CPU','NW','IO','Memory']:\n",
    "                        df_remaining.loc[m,col] = df_remaining.loc[m,col] - df_applications.loc[a,col]\n",
    "                    break;\n",
    "    return new_individual"
   ]
  },
  {
   "cell_type": "code",
   "execution_count": 21,
   "id": "05be8411",
   "metadata": {
    "execution": {
     "iopub.execute_input": "2024-04-21T17:22:34.163350Z",
     "iopub.status.busy": "2024-04-21T17:22:34.162929Z",
     "iopub.status.idle": "2024-04-21T17:22:34.173995Z",
     "shell.execute_reply": "2024-04-21T17:22:34.172626Z"
    },
    "papermill": {
     "duration": 0.031088,
     "end_time": "2024-04-21T17:22:34.176846",
     "exception": false,
     "start_time": "2024-04-21T17:22:34.145758",
     "status": "completed"
    },
    "tags": []
   },
   "outputs": [],
   "source": [
    "def generate_new_individuals_and_check(population,df_machines,df_applications,df_affinity_matrix,df_anti_affinity_matrix):\n",
    "    new_individuals = []\n",
    "    for i in range(NUM_NEW_POPULATION):\n",
    "        random_numbers = random.sample(range(POPULATION_SIZE), 2)\n",
    "        row = random.randint(0,df_applications.shape[0] - 1)\n",
    "        col = random.randint(0,df_machines.shape[0] - 1)\n",
    "        new_individual = population[random_numbers[0]].copy()\n",
    "        \n",
    "#         set rows below row as rn1\n",
    "        new_individual.loc[row+1:,:] = population[random_numbers[1]].loc[row+1:,:]\n",
    "        for i in range(col,df_machines.shape[0]):\n",
    "            new_individual.loc[row,i]=population[random_numbers[1]].loc[row,i]\n",
    "        \n",
    "#         try to correct the individual\n",
    "        new_individual = correct_the_individual(new_individual,df_machines,df_applications,df_affinity_matrix,df_anti_affinity_matrix)\n",
    "        \n",
    "#         check the individual\n",
    "        instances_scheduled = new_individual.sum().sum()\n",
    "        instances_required = df_applications['Instances'].sum()\n",
    "        if(instances_scheduled == instances_required):\n",
    "            new_individuals.append(new_individual)\n",
    "    return new_individuals"
   ]
  },
  {
   "cell_type": "code",
   "execution_count": 22,
   "id": "94be4df9",
   "metadata": {
    "execution": {
     "iopub.execute_input": "2024-04-21T17:22:34.211865Z",
     "iopub.status.busy": "2024-04-21T17:22:34.211355Z",
     "iopub.status.idle": "2024-04-21T17:22:34.218854Z",
     "shell.execute_reply": "2024-04-21T17:22:34.217653Z"
    },
    "papermill": {
     "duration": 0.028437,
     "end_time": "2024-04-21T17:22:34.221443",
     "exception": false,
     "start_time": "2024-04-21T17:22:34.193006",
     "status": "completed"
    },
    "tags": []
   },
   "outputs": [],
   "source": [
    "def find_score(population,df_machines,df_applications,df_affinity_matrix,df_anti_affinity_matrix):\n",
    "    answer_list = []\n",
    "    for i in range(len(population)):\n",
    "        candidate = population[i]\n",
    "        temp_p = calculate_total_power_cost(candidate,df_applications,df_machines)\n",
    "        temp_a = calculate_total_affinity_cost(candidate,df_affinity_matrix)\n",
    "        temp_c = calculate_total_system_cost(temp_p,temp_a)\n",
    "        answer_list.append(temp_c)\n",
    "    return answer_list"
   ]
  },
  {
   "cell_type": "code",
   "execution_count": 23,
   "id": "9ce047ac",
   "metadata": {
    "execution": {
     "iopub.execute_input": "2024-04-21T17:22:34.256906Z",
     "iopub.status.busy": "2024-04-21T17:22:34.256501Z",
     "iopub.status.idle": "2024-04-21T17:22:34.272109Z",
     "shell.execute_reply": "2024-04-21T17:22:34.270669Z"
    },
    "papermill": {
     "duration": 0.038125,
     "end_time": "2024-04-21T17:22:34.275306",
     "exception": false,
     "start_time": "2024-04-21T17:22:34.237181",
     "status": "completed"
    },
    "tags": []
   },
   "outputs": [],
   "source": [
    "def mutation(new_individual,df_machines,df_applications,df_affinity_matrix,df_anti_affinity_matrix):\n",
    "    random_decimal = random.uniform(0, 1)\n",
    "    if(random_decimal > MUTATION_PROB):\n",
    "        for i in range(100):\n",
    "            machines = random.sample(range(df_machines.shape[0]), 2)\n",
    "            applications = random.sample(range(df_applications.shape[0]), 2)\n",
    "            val1= new_individual.loc[applications[0],machines[0]]\n",
    "            val2= new_individual.loc[applications[1],machines[1]]\n",
    "            if(val1==0 or val2==0):\n",
    "                continue;\n",
    "            else:\n",
    "#                 find resources left with m1\n",
    "                df_remaining = find_reources_left(new_individual,df_machines,df_applications,df_affinity_matrix,df_anti_affinity_matrix)\n",
    "#                 find resources left with m2\n",
    "                t_yes=0\n",
    "                for col in ['CPU','NW','IO','Memory']:\n",
    "                    if(df_remaining.loc[machines[0],col]+df_applications.loc[applications[0],col]-df_applications.loc[applications[1],col] <0):\n",
    "                        t_yes=1\n",
    "                        break\n",
    "                    elif(df_remaining.loc[machines[1],col]+df_applications.loc[applications[1],col]-df_applications.loc[applications[0],col] <0):\n",
    "                        t_yes=1\n",
    "                        break\n",
    "                if(t_yes==0):\n",
    "#                     change the numbers\n",
    "                    new_individual.loc[applications[1],machines[0]]=new_individual.loc[applications[1],machines[0]]+1\n",
    "                    new_individual.loc[applications[1],machines[1]]=new_individual.loc[applications[1],machines[1]]-1\n",
    "                    new_individual.loc[applications[0],machines[0]]=new_individual.loc[applications[0],machines[0]]-1\n",
    "                    new_individual.loc[applications[0],machines[1]]=new_individual.loc[applications[0],machines[1]]+1\n",
    "                    break\n",
    "        return new_individual\n",
    "    else:\n",
    "        return new_individual"
   ]
  },
  {
   "cell_type": "code",
   "execution_count": 24,
   "id": "5504056a",
   "metadata": {
    "execution": {
     "iopub.execute_input": "2024-04-21T17:22:34.308748Z",
     "iopub.status.busy": "2024-04-21T17:22:34.308295Z",
     "iopub.status.idle": "2024-04-21T17:22:34.321873Z",
     "shell.execute_reply": "2024-04-21T17:22:34.320559Z"
    },
    "papermill": {
     "duration": 0.033516,
     "end_time": "2024-04-21T17:22:34.324538",
     "exception": false,
     "start_time": "2024-04-21T17:22:34.291022",
     "status": "completed"
    },
    "tags": []
   },
   "outputs": [],
   "source": [
    "def Genetic_Algorithm(df_machines,df_applications,df_affinity_matrix,df_anti_affinity_matrix):\n",
    "#     population initialization\n",
    "    population = generate_population(df_machines,df_applications,df_affinity_matrix,df_anti_affinity_matrix)\n",
    "    population[0] = PAS(df_machines,df_applications,df_affinity_matrix,df_anti_affinity_matrix)\n",
    "    population[1] = AAS(df_machines,df_applications,df_affinity_matrix,df_anti_affinity_matrix)\n",
    "    population[2] = Proposed_Approach(df_machines,df_applications,df_affinity_matrix,df_anti_affinity_matrix)\n",
    "    score_list = find_score(population,df_machines,df_applications,df_affinity_matrix,df_anti_affinity_matrix)\n",
    "    avg_cost_over_iters = []\n",
    "    avg_cost_over_iters.append(sum(score_list)/len(score_list))\n",
    "    print('Population Initialized')\n",
    "    for i in range(NUMBER_OF_GA_ITERS):\n",
    "        new_individuals = generate_new_individuals_and_check(population,df_machines,df_applications,df_affinity_matrix,df_anti_affinity_matrix)\n",
    "        for j in range(len(new_individuals)):\n",
    "            mutated_individual = mutation(new_individuals[j],df_machines,df_applications,df_affinity_matrix,df_anti_affinity_matrix)\n",
    "#             update the population with best individuals\n",
    "            temp_p = calculate_total_power_cost(mutated_individual,df_applications,df_machines)\n",
    "            temp_a = calculate_total_affinity_cost(mutated_individual,df_affinity_matrix)\n",
    "            temp_c = calculate_total_system_cost(temp_p,temp_a)\n",
    "            max_value_in_list = max(score_list)\n",
    "            if(max_value_in_list > temp_c):\n",
    "#                 find the index and replace the values\n",
    "                index_me = score_list.index(max_value_in_list);\n",
    "                population[index_me] = mutated_individual\n",
    "                score_list[index_me] = temp_c\n",
    "        avg_cost_over_iters.append(sum(score_list)/len(score_list))\n",
    "        print('Iteration ',i+1, ': ', min(score_list))\n",
    "    index_best = score_list.index(min(score_list))\n",
    "    df_allocation_matrix = population[index_best]\n",
    "    plt.plot(avg_cost_over_iters)\n",
    "    plt.show()\n",
    "    return df_allocation_matrix"
   ]
  },
  {
   "cell_type": "markdown",
   "id": "de30d290",
   "metadata": {
    "papermill": {
     "duration": 0.017239,
     "end_time": "2024-04-21T17:22:34.357758",
     "exception": false,
     "start_time": "2024-04-21T17:22:34.340519",
     "status": "completed"
    },
    "tags": []
   },
   "source": [
    "# Simulated Annealing"
   ]
  },
  {
   "cell_type": "code",
   "execution_count": 25,
   "id": "4ccde15c",
   "metadata": {
    "execution": {
     "iopub.execute_input": "2024-04-21T17:22:34.392601Z",
     "iopub.status.busy": "2024-04-21T17:22:34.392153Z",
     "iopub.status.idle": "2024-04-21T17:22:34.409761Z",
     "shell.execute_reply": "2024-04-21T17:22:34.408291Z"
    },
    "papermill": {
     "duration": 0.038445,
     "end_time": "2024-04-21T17:22:34.412547",
     "exception": false,
     "start_time": "2024-04-21T17:22:34.374102",
     "status": "completed"
    },
    "tags": []
   },
   "outputs": [],
   "source": [
    "def generate_candidate_helper(curr_df,step_size,df_machines,df_applications,df_affinity_matrix,df_anti_affinity_matrix):\n",
    "    new_df = curr_df.copy()\n",
    "    random_application = random.randint(0, df_applications.shape[0] - 1)\n",
    "    random_machine = random.randint(0, df_machines.shape[0] - 1)\n",
    "    while(df_anti_affinity_matrix.loc[random_application,random_machine] == 1):\n",
    "        random_application = random.randint(0, df_applications.shape[0]-1)\n",
    "        random_machine = random.randint(0,df_machines.shape[0]-1)\n",
    "#     define the limits of change in ijth position\n",
    "    value_original = curr_df.loc[random_application ,random_machine]\n",
    "    max_changed_value = value_original + step_size\n",
    "    min_changed_value = max(0,value_original - step_size)\n",
    "    max_incr = step_size\n",
    "    for col in ['CPU', 'IO', 'NW', 'Memory']:\n",
    "        resources_used = (curr_df[random_machine] * df_applications[col]).sum()\n",
    "        resources_available = df_machines.loc[random_machine,col]\n",
    "        resource_required_by_one_application = df_applications.loc[random_application,col]\n",
    "        max_incr = min(max_incr, int((resources_available - resources_used) / resource_required_by_one_application))\n",
    "    \n",
    "    max_changed_value = min(max_changed_value, value_original + max_incr)\n",
    "    value_changed = random.randint(min_changed_value, max_changed_value)\n",
    "    new_df.loc[random_application,random_machine] = value_changed\n",
    "    random_change = value_changed - value_original\n",
    "\n",
    "    if(random_change > 0):\n",
    "#         subtract the allocations from the row - till no more required\n",
    "        for index_machine in range(df_machines.shape[0]):\n",
    "            entry = new_df.loc[random_application,index_machine]\n",
    "            if(random_change >= entry):\n",
    "                new_df.loc[random_application,index_machine] = 0\n",
    "                random_change = random_change - entry\n",
    "            else:\n",
    "                new_df.loc[random_application,index_machine] = entry - random_change\n",
    "                break\n",
    "    elif(random_change < 0):\n",
    "        num_to_add = -random_change\n",
    "        for index_machine in range(df_machines.shape[0]):\n",
    "            max_number_to_add_possible = df_applications.shape[0]\n",
    "            for col in ['CPU', 'IO', 'NW', 'Memory']:\n",
    "                resources_used = (new_df[index_machine] * df_applications[col]).sum()\n",
    "                resources_available = df_machines.loc[index_machine,col]\n",
    "                resource_required_by_one_application = df_applications.loc[random_application,col]\n",
    "                max_number_to_add_possible = min(max_number_to_add_possible, int((resources_available - resources_used) / resource_required_by_one_application))\n",
    "            if(max_number_to_add_possible <= num_to_add):\n",
    "                new_df.loc[random_application,index_machine] = new_df.loc[random_application,index_machine] + max_number_to_add_possible\n",
    "                num_to_add = num_to_add - max_number_to_add_possible\n",
    "            else:\n",
    "                new_df.loc[random_application,index_machine] = new_df.loc[random_application,index_machine] + num_to_add\n",
    "                break\n",
    "    return new_df"
   ]
  },
  {
   "cell_type": "code",
   "execution_count": 26,
   "id": "3a44b7d5",
   "metadata": {
    "execution": {
     "iopub.execute_input": "2024-04-21T17:22:34.445975Z",
     "iopub.status.busy": "2024-04-21T17:22:34.445505Z",
     "iopub.status.idle": "2024-04-21T17:22:34.453768Z",
     "shell.execute_reply": "2024-04-21T17:22:34.452305Z"
    },
    "papermill": {
     "duration": 0.028438,
     "end_time": "2024-04-21T17:22:34.456877",
     "exception": false,
     "start_time": "2024-04-21T17:22:34.428439",
     "status": "completed"
    },
    "tags": []
   },
   "outputs": [],
   "source": [
    "def generate_candidate(curr_df,step_size,df_machines,df_applications,df_affinity_matrix,df_anti_affinity_matrix):\n",
    "#     how to generate a new feasible matrix which is step size away from curr_df\n",
    "#     we are not using interfernce matrix and affinity matrix for this generation\n",
    "#     we select a random ij position till ij is not antiaffine\n",
    "    curr_number_of_instances = curr_df.sum().sum()\n",
    "    new_df = generate_candidate_helper(curr_df,step_size,df_machines,df_applications,df_affinity_matrix,df_anti_affinity_matrix)\n",
    "    for i in range(NUMBER_OF_NEW_CAND_ITERS):\n",
    "        new_number_of_instances = new_df.sum().sum()\n",
    "        if(new_number_of_instances < curr_number_of_instances):\n",
    "            new_df = generate_candidate_helper(curr_df,step_size,df_machines,df_applications,df_affinity_matrix,df_anti_affinity_matrix)\n",
    "        else:\n",
    "            break\n",
    "    return new_df"
   ]
  },
  {
   "cell_type": "code",
   "execution_count": 27,
   "id": "7cd247db",
   "metadata": {
    "execution": {
     "iopub.execute_input": "2024-04-21T17:22:34.490727Z",
     "iopub.status.busy": "2024-04-21T17:22:34.490284Z",
     "iopub.status.idle": "2024-04-21T17:22:34.501622Z",
     "shell.execute_reply": "2024-04-21T17:22:34.500296Z"
    },
    "papermill": {
     "duration": 0.031391,
     "end_time": "2024-04-21T17:22:34.504308",
     "exception": false,
     "start_time": "2024-04-21T17:22:34.472917",
     "status": "completed"
    },
    "tags": []
   },
   "outputs": [],
   "source": [
    "def Simulated_Annealing(df_machines,df_applications,df_affinity_matrix,df_anti_affinity_matrix):\n",
    "    best_df_allocation_matrix = generate_suitable_candidate(df_machines,df_applications,df_affinity_matrix,df_anti_affinity_matrix)\n",
    "    best_total_power_cost = calculate_total_power_cost(best_df_allocation_matrix,df_applications,df_machines)\n",
    "    best_total_affinity_cost = calculate_total_affinity_cost(best_df_allocation_matrix,df_affinity_matrix)\n",
    "    best_total_cost_of_system = calculate_total_system_cost(best_total_power_cost,best_total_affinity_cost)\n",
    "    curr_df_allocation_matrix = best_df_allocation_matrix\n",
    "    curr_total_cost_of_system  = best_total_cost_of_system\n",
    "    list_costs = [curr_total_cost_of_system]\n",
    "    for i in range(NUMBER_OF_SA_ITERS):\n",
    "        candidate_df = generate_candidate(curr_df_allocation_matrix,STEP_SIZE,df_machines,df_applications,df_affinity_matrix,df_anti_affinity_matrix)\n",
    "        candidate_total_power_cost = calculate_total_power_cost(candidate_df,df_applications,df_machines)\n",
    "        candidate_total_affinity_cost = calculate_total_affinity_cost(candidate_df,df_affinity_matrix)\n",
    "        candidate_total_cost_of_system = calculate_total_system_cost(candidate_total_power_cost,candidate_total_affinity_cost)\n",
    "#         list_costs.append(candidate_total_cost_of_system)\n",
    "        if(candidate_total_cost_of_system < curr_total_cost_of_system):\n",
    "            best_df_allocation_matrix = candidate_df\n",
    "            best_total_cost_of_system = candidate_total_cost_of_system\n",
    "        diff = candidate_total_cost_of_system - curr_total_cost_of_system\n",
    "        t = TEMP/float(i+1)\n",
    "        metropolis = math.exp(-diff / t)\n",
    "        if diff < 0 or np.random.rand() < metropolis:\n",
    "            curr_df_allocation_matrix, curr_total_cost_of_system = candidate_df, candidate_total_cost_of_system\n",
    "        list_costs.append(best_total_cost_of_system)\n",
    "#         print('Iteration ',i+1, ': ', best_total_cost_of_system)\n",
    "    \n",
    "    plt.plot(list_costs)\n",
    "    plt.show()\n",
    "    return best_df_allocation_matrix"
   ]
  },
  {
   "cell_type": "markdown",
   "id": "eef8aa83",
   "metadata": {
    "papermill": {
     "duration": 0.016149,
     "end_time": "2024-04-21T17:22:34.537194",
     "exception": false,
     "start_time": "2024-04-21T17:22:34.521045",
     "status": "completed"
    },
    "tags": []
   },
   "source": [
    "# Greedy Heuristics"
   ]
  },
  {
   "cell_type": "code",
   "execution_count": 28,
   "id": "c77d3b2d",
   "metadata": {
    "execution": {
     "iopub.execute_input": "2024-04-21T17:22:34.572048Z",
     "iopub.status.busy": "2024-04-21T17:22:34.571653Z",
     "iopub.status.idle": "2024-04-21T17:22:34.579024Z",
     "shell.execute_reply": "2024-04-21T17:22:34.577630Z"
    },
    "papermill": {
     "duration": 0.027959,
     "end_time": "2024-04-21T17:22:34.582338",
     "exception": false,
     "start_time": "2024-04-21T17:22:34.554379",
     "status": "completed"
    },
    "tags": []
   },
   "outputs": [],
   "source": [
    "def check_if_possible(df_machines, df_applications, df_allocation_matrix, i, j):\n",
    "    for col in ['CPU', 'IO', 'NW', 'Memory']:\n",
    "        if ((df_allocation_matrix[j] * df_applications[col]).sum() + df_applications[col][i] > df_machines[col][j]):\n",
    "            return False\n",
    "    return True"
   ]
  },
  {
   "cell_type": "code",
   "execution_count": 29,
   "id": "121e1e13",
   "metadata": {
    "execution": {
     "iopub.execute_input": "2024-04-21T17:22:34.617525Z",
     "iopub.status.busy": "2024-04-21T17:22:34.616409Z",
     "iopub.status.idle": "2024-04-21T17:22:34.631282Z",
     "shell.execute_reply": "2024-04-21T17:22:34.629868Z"
    },
    "papermill": {
     "duration": 0.034929,
     "end_time": "2024-04-21T17:22:34.634131",
     "exception": false,
     "start_time": "2024-04-21T17:22:34.599202",
     "status": "completed"
    },
    "tags": []
   },
   "outputs": [],
   "source": [
    "def PAS(df_machines, df_applications, df_affinity_matrix, df_anti_affinity_matrix, knee = 0.45):\n",
    "    df_applications_copy = df_applications.copy().sort_values(by = ['CPU', 'IO', 'NW', 'Memory'], ascending = [False, False, False, False])\n",
    "    df_machines_copy = df_machines.copy()\n",
    "    df_allocation_matrix = pd.DataFrame(np.zeros((df_applications.shape[0], df_machines.shape[0])))\n",
    "    for i, application in df_applications_copy.iterrows():\n",
    "        for k in range(int(application['Instances'])):\n",
    "            df_machines_copy['utilization'] = calculate_utilization(df_allocation_matrix, df_applications, df_machines)\n",
    "            df_machines_copy['utilization'] = [1 if df_machines_copy['utilization'][j] > knee else df_machines_copy['utilization'][j] for j in range(df_machines.shape[0])]\n",
    "            df_machines_copy['affinity'] = df_affinity_matrix.loc[application['Index']]\n",
    "            df_machines_copy['power'] = (df_machines_copy['P_max'] - df_machines_copy['P_idle'])\n",
    "            df_machines_copy_2 = df_machines_copy.sort_values(by = ['utilization', 'affinity', 'power'], ascending = [True, False, True])\n",
    "            for j, machine in df_machines_copy_2.iterrows():\n",
    "                if (df_anti_affinity_matrix.loc[application['Index'], machine['Index']] == 1):\n",
    "                    continue\n",
    "                elif (application['CPU'] > machine['CPU'] or application['IO'] > machine['IO'] or application['NW'] > machine['NW'] or application['Memory'] > machine['Memory']):\n",
    "                    continue\n",
    "                elif (not check_if_possible(df_machines, df_applications, df_allocation_matrix, application['Index'], machine['Index'])):\n",
    "                    continue\n",
    "                else:\n",
    "                    df_allocation_matrix.loc[application['Index'], machine['Index']] += 1\n",
    "                    break\n",
    "    return df_allocation_matrix"
   ]
  },
  {
   "cell_type": "code",
   "execution_count": 30,
   "id": "cdce2ebd",
   "metadata": {
    "execution": {
     "iopub.execute_input": "2024-04-21T17:22:34.668139Z",
     "iopub.status.busy": "2024-04-21T17:22:34.667741Z",
     "iopub.status.idle": "2024-04-21T17:22:34.680585Z",
     "shell.execute_reply": "2024-04-21T17:22:34.679380Z"
    },
    "papermill": {
     "duration": 0.033065,
     "end_time": "2024-04-21T17:22:34.683336",
     "exception": false,
     "start_time": "2024-04-21T17:22:34.650271",
     "status": "completed"
    },
    "tags": []
   },
   "outputs": [],
   "source": [
    "def AAS(df_machines, df_applications, df_affinity_matrix, df_anti_affinity_matrix):\n",
    "    df_applications_copy = df_applications.copy().sort_values(by = ['CPU', 'IO', 'NW', 'Memory'], ascending = [False, False, False, False])\n",
    "    df_machines_copy = df_machines.copy()\n",
    "    df_allocation_matrix = pd.DataFrame(np.zeros((df_applications.shape[0], df_machines.shape[0])))\n",
    "    for i, application in df_applications_copy.iterrows():\n",
    "        for k in range(int(application['Instances'])):\n",
    "            df_machines_copy['utilization'] = calculate_utilization(df_allocation_matrix, df_applications, df_machines)\n",
    "            df_machines_copy['affinity'] = df_affinity_matrix.loc[application['Index']]\n",
    "            df_machines_copy['power'] = (df_machines_copy['P_max'] - df_machines_copy['P_idle'])\n",
    "            df_machines_copy_2 = df_machines_copy.sort_values(by = ['affinity', 'utilization', 'power'], ascending = [False, True, True])\n",
    "            for j, machine in df_machines_copy_2.iterrows():\n",
    "                if (df_anti_affinity_matrix.loc[application['Index'], machine['Index']] == 1):\n",
    "                    continue\n",
    "                elif (application['CPU'] > machine['CPU'] or application['IO'] > machine['IO'] or application['NW'] > machine['NW'] or application['Memory'] > machine['Memory']):\n",
    "                    continue\n",
    "                elif (not check_if_possible(df_machines, df_applications, df_allocation_matrix, application['Index'], machine['Index'])):\n",
    "                    continue\n",
    "                else:\n",
    "                    df_allocation_matrix.loc[application['Index'], machine['Index']] += 1\n",
    "                    break\n",
    "    return df_allocation_matrix"
   ]
  },
  {
   "cell_type": "code",
   "execution_count": 31,
   "id": "42fccfff",
   "metadata": {
    "execution": {
     "iopub.execute_input": "2024-04-21T17:22:34.719254Z",
     "iopub.status.busy": "2024-04-21T17:22:34.718847Z",
     "iopub.status.idle": "2024-04-21T17:22:34.741073Z",
     "shell.execute_reply": "2024-04-21T17:22:34.739814Z"
    },
    "papermill": {
     "duration": 0.043205,
     "end_time": "2024-04-21T17:22:34.743982",
     "exception": false,
     "start_time": "2024-04-21T17:22:34.700777",
     "status": "completed"
    },
    "tags": []
   },
   "outputs": [],
   "source": [
    "def Proposed_Approach(df_machines, df_applications, df_affinity_matrix, df_anti_affinity_matrix):\n",
    "    df_applications_copy = df_applications.copy().sort_values(by = ['CPU', 'IO', 'NW', 'Memory'], ascending = [False, False, False, False])\n",
    "    df_machines_copy = df_machines.copy()\n",
    "    df_allocation_matrix = pd.DataFrame(np.zeros((df_applications.shape[0], df_machines.shape[0])))\n",
    "    for i, application in df_applications_copy.iterrows():\n",
    "        for k in range(int(application['Instances'])):\n",
    "            df_machines_copy['utilization'] = calculate_utilization(df_allocation_matrix, df_applications, df_machines)\n",
    "            df_machines_copy['affinity'] = df_affinity_matrix.loc[application['Index']]\n",
    "            df_machines_copy['power'] = (df_machines_copy['P_max'] - df_machines_copy['P_idle'])\n",
    "            df_machines_copy_2 = df_machines_copy.sort_values(by = ['utilization', 'affinity', 'power'], ascending = [True, False, True])\n",
    "            df_machines_copy_3 = df_machines_copy.sort_values(by = ['affinity', 'utilization', 'power'], ascending = [False, True, True])\n",
    "            \n",
    "            sol_1 = []\n",
    "            sol_2 = []\n",
    "            for j, machine in df_machines_copy_2.iterrows():\n",
    "                if (df_anti_affinity_matrix.loc[application['Index'], machine['Index']] == 1):\n",
    "                    continue\n",
    "                elif (application['CPU'] > machine['CPU'] or application['IO'] > machine['IO'] or application['NW'] > machine['NW'] or application['Memory'] > machine['Memory']):\n",
    "                    continue\n",
    "                elif (not check_if_possible(df_machines, df_applications, df_allocation_matrix, application['Index'], machine['Index'])):\n",
    "                    continue\n",
    "                else:\n",
    "                    df_allocation_matrix.loc[application['Index'], machine['Index']] += 1\n",
    "                    power_cost_temp = calculate_total_power_cost(df_allocation_matrix, df_applications, df_machines)\n",
    "                    affinity_cost_temp = calculate_total_affinity_cost(df_allocation_matrix, df_affinity_matrix)\n",
    "                    total_cost_temp = calculate_total_system_cost(power_cost_temp, affinity_cost_temp)\n",
    "                    sol_1 = [application['Index'], machine['Index'], total_cost_temp]\n",
    "                    df_allocation_matrix.loc[application['Index'], machine['Index']] -= 1\n",
    "                    break\n",
    "            \n",
    "            for j, machine in df_machines_copy_3.iterrows():\n",
    "                if (df_anti_affinity_matrix.loc[application['Index'], machine['Index']] == 1):\n",
    "                    continue\n",
    "                elif (application['CPU'] > machine['CPU'] or application['IO'] > machine['IO'] or application['NW'] > machine['NW'] or application['Memory'] > machine['Memory']):\n",
    "                    continue\n",
    "                elif (not check_if_possible(df_machines, df_applications, df_allocation_matrix, application['Index'], machine['Index'])):\n",
    "                    continue\n",
    "                else:\n",
    "                    df_allocation_matrix.loc[application['Index'], machine['Index']] += 1\n",
    "                    power_cost_temp = calculate_total_power_cost(df_allocation_matrix, df_applications, df_machines)\n",
    "                    affinity_cost_temp = calculate_total_affinity_cost(df_allocation_matrix, df_affinity_matrix)\n",
    "                    total_cost_temp = calculate_total_system_cost(power_cost_temp, affinity_cost_temp)\n",
    "                    sol_2 = [application['Index'], machine['Index'], total_cost_temp]\n",
    "                    df_allocation_matrix.loc[application['Index'], machine['Index']] -= 1\n",
    "                    break\n",
    "            \n",
    "            if sol_1[2] > sol_2[2]:\n",
    "                df_allocation_matrix.loc[sol_2[0], sol_2[1]] += 1\n",
    "            else:\n",
    "                df_allocation_matrix.loc[sol_1[0], sol_1[1]] += 1\n",
    "    return df_allocation_matrix"
   ]
  },
  {
   "cell_type": "markdown",
   "id": "b17c70f4",
   "metadata": {
    "papermill": {
     "duration": 0.017577,
     "end_time": "2024-04-21T17:22:34.778454",
     "exception": false,
     "start_time": "2024-04-21T17:22:34.760877",
     "status": "completed"
    },
    "tags": []
   },
   "source": [
    "# Grouping and Scheduling"
   ]
  },
  {
   "cell_type": "code",
   "execution_count": 32,
   "id": "82a489a1",
   "metadata": {
    "execution": {
     "iopub.execute_input": "2024-04-21T17:22:34.813527Z",
     "iopub.status.busy": "2024-04-21T17:22:34.813004Z",
     "iopub.status.idle": "2024-04-21T17:22:34.824780Z",
     "shell.execute_reply": "2024-04-21T17:22:34.823309Z"
    },
    "papermill": {
     "duration": 0.03284,
     "end_time": "2024-04-21T17:22:34.827813",
     "exception": false,
     "start_time": "2024-04-21T17:22:34.794973",
     "status": "completed"
    },
    "tags": []
   },
   "outputs": [],
   "source": [
    "def filter_out_machines(df_machines, df_applications, df_allocation_matrix, asc):\n",
    "    CPU_th_2 = df_machines['CPU'].max() * 0.7\n",
    "    if not asc[0]:\n",
    "        CPU_th_2 = 0\n",
    "    IO_th_2 = df_machines['IO'].max() * 0.7\n",
    "    if not asc[1]:\n",
    "        IO_th_2 = 0\n",
    "    NW_th_2 = df_machines['NW'].max() * 0.7\n",
    "    if not asc[2]:\n",
    "        NW_th_2 = 0\n",
    "    MEM_th_2 = df_machines['Memory'].max() * 0.7\n",
    "    if not asc[3]:\n",
    "        MEM_th_2 = 0\n",
    "    \n",
    "    for col in ['CPU', 'IO', 'NW', 'Memory']:\n",
    "        for j in range(df_machines.shape[0]):\n",
    "            df_machines.loc[j,col] = df_machines.loc[j,col] - ((df_allocation_matrix[j] * df_applications[col]).sum())\n",
    "    \n",
    "    return df_machines[(df_machines['CPU'] > CPU_th_2) & (df_machines['IO'] > IO_th_2) & (df_machines['NW'] > NW_th_2) & (df_machines['Memory'] > MEM_th_2)]"
   ]
  },
  {
   "cell_type": "code",
   "execution_count": 33,
   "id": "3588d0b5",
   "metadata": {
    "execution": {
     "iopub.execute_input": "2024-04-21T17:22:34.864347Z",
     "iopub.status.busy": "2024-04-21T17:22:34.863873Z",
     "iopub.status.idle": "2024-04-21T17:22:34.883928Z",
     "shell.execute_reply": "2024-04-21T17:22:34.882647Z"
    },
    "papermill": {
     "duration": 0.04076,
     "end_time": "2024-04-21T17:22:34.886525",
     "exception": false,
     "start_time": "2024-04-21T17:22:34.845765",
     "status": "completed"
    },
    "tags": []
   },
   "outputs": [],
   "source": [
    "def Group_Sched(df_machines, df_applications, df_affinity_matrix, df_anti_affinity_matrix):\n",
    "    df_allocation_matrix = pd.DataFrame(np.zeros((df_applications.shape[0], df_machines.shape[0])))\n",
    "    df_applications_copy = df_applications.copy().sort_values(by = ['CPU', 'IO', 'NW', 'Memory'], ascending = [False, False, False, False])\n",
    "    CPU_th = df_applications_copy['CPU'].max() * 0.7\n",
    "    IO_th = df_applications_copy['IO'].max() * 0.7\n",
    "    NW_th = df_applications_copy['NW'].max() * 0.7\n",
    "    MEM_th = df_applications_copy['Memory'].max() * 0.7\n",
    "    for i, application in df_applications_copy.iterrows():\n",
    "        for k in range(int(application['Instances'])):\n",
    "            df_machines_copy = df_machines.copy()\n",
    "            df_machines_copy['utilization'] = calculate_utilization(df_allocation_matrix, df_applications, df_machines)\n",
    "            df_machines_copy['affinity'] = df_affinity_matrix.loc[application['Index']]\n",
    "            df_machines_copy['power'] = (df_machines_copy['P_max'] - df_machines_copy['P_idle']) * (df_machines_copy['utilization'] ** 3)\n",
    "            asc = [application['CPU'] > CPU_th, application['IO'] > IO_th, application['NW'] > NW_th, application['Memory'] > MEM_th]\n",
    "            df_machines_copy_2 = filter_out_machines(df_machines_copy, df_applications, df_allocation_matrix, asc)\n",
    "            df_machines_copy_2 = df_machines_copy_2.sort_values(by = ['power', 'affinity'], ascending = [True, False])\n",
    "            sched = False\n",
    "            for j, machine in df_machines_copy_2.iterrows():\n",
    "                if (df_anti_affinity_matrix.loc[application['Index'], machine['Index']] == 1):\n",
    "                    continue\n",
    "                elif (application['CPU'] > machine['CPU'] or application['IO'] > machine['IO'] or application['NW'] > machine['NW'] or application['Memory'] > machine['Memory']):\n",
    "                    continue\n",
    "                elif (not check_if_possible(df_machines, df_applications, df_allocation_matrix, application['Index'], machine['Index'])):\n",
    "                    continue\n",
    "                else:\n",
    "                    df_allocation_matrix.loc[application['Index'], machine['Index']] += 1\n",
    "                    sched = True\n",
    "                    break\n",
    "            \n",
    "            if not sched:\n",
    "                df_machines_copy_2 = df_machines_copy.sort_values(by = ['power', 'affinity'], ascending = [True, False])\n",
    "                for j, machine in df_machines_copy_2.iterrows():\n",
    "                    if (df_anti_affinity_matrix.loc[application['Index'], machine['Index']] == 1):\n",
    "                        continue\n",
    "                    elif (application['CPU'] > machine['CPU'] or application['IO'] > machine['IO'] or application['NW'] > machine['NW'] or application['Memory'] > machine['Memory']):\n",
    "                        continue\n",
    "                    elif (not check_if_possible(df_machines, df_applications, df_allocation_matrix, application['Index'], machine['Index'])):\n",
    "                        continue\n",
    "                    else:\n",
    "                        df_allocation_matrix.loc[application['Index'], machine['Index']] += 1\n",
    "                        break\n",
    "    \n",
    "    return df_allocation_matrix"
   ]
  },
  {
   "cell_type": "markdown",
   "id": "7d85ced2",
   "metadata": {
    "papermill": {
     "duration": 0.015993,
     "end_time": "2024-04-21T17:22:34.918530",
     "exception": false,
     "start_time": "2024-04-21T17:22:34.902537",
     "status": "completed"
    },
    "tags": []
   },
   "source": [
    "# Simulation"
   ]
  },
  {
   "cell_type": "markdown",
   "id": "81e117c1",
   "metadata": {
    "papermill": {
     "duration": 0.016756,
     "end_time": "2024-04-21T17:22:34.951132",
     "exception": false,
     "start_time": "2024-04-21T17:22:34.934376",
     "status": "completed"
    },
    "tags": []
   },
   "source": [
    "## Impact of Number of Machines (Random Dataset)\n",
    "- Alpha = 4\n",
    "- Applications: 18\n",
    "- Machines : [20, 30, 40, 50, 60]"
   ]
  },
  {
   "cell_type": "code",
   "execution_count": 34,
   "id": "191d88ac",
   "metadata": {
    "execution": {
     "iopub.execute_input": "2024-04-21T17:22:34.986739Z",
     "iopub.status.busy": "2024-04-21T17:22:34.985687Z",
     "iopub.status.idle": "2024-04-21T17:22:34.992741Z",
     "shell.execute_reply": "2024-04-21T17:22:34.991393Z"
    },
    "papermill": {
     "duration": 0.028785,
     "end_time": "2024-04-21T17:22:34.995806",
     "exception": false,
     "start_time": "2024-04-21T17:22:34.967021",
     "status": "completed"
    },
    "tags": []
   },
   "outputs": [],
   "source": [
    "# for algo in [Group_Sched, PAS, AAS, Proposed_Approach]:\n",
    "#     print(algo.__name__)\n",
    "#     pc = []\n",
    "#     ac = []\n",
    "#     tc = []\n",
    "#     aasr = []\n",
    "#     au = []\n",
    "#     for num_applications in [18]:\n",
    "#         for num_machines in [20, 30, 40, 50, 60]:\n",
    "#             number_of_machines_temp = num_machines\n",
    "#             number_of_applications_temp = num_applications\n",
    "#             df_machines_temp = df_machines.head(number_of_machines_temp)\n",
    "#             df_applications_temp = df_applications.head(number_of_applications_temp)\n",
    "#             df_affinity_matrix_temp = df_affinity_matrix.loc[0:number_of_applications_temp-1,0:number_of_machines_temp-1]\n",
    "#             df_user_affinity_matrix_temp = df_user_affinity_matrix.loc[0:number_of_applications_temp-1,0:number_of_machines_temp-1]\n",
    "#             df_anti_affinity_matrix_temp = df_anti_affinity_matrix.loc[0:number_of_applications_temp-1,0:number_of_machines_temp-1]\n",
    "\n",
    "#             df_allocation_matrix = algo(df_machines_temp, df_applications_temp, df_affinity_matrix_temp, df_anti_affinity_matrix_temp)\n",
    "#             if df_allocation_matrix.sum().sum() != df_applications_temp['Instances'].sum():\n",
    "#                 print(\"False!\")\n",
    "#             power_cost = calculate_total_power_cost(df_allocation_matrix, df_applications_temp, df_machines_temp)\n",
    "#             affinity_cost = calculate_total_affinity_cost(df_allocation_matrix, df_affinity_matrix_temp)\n",
    "#             tc.append(calculate_total_system_cost(power_cost, affinity_cost))\n",
    "#             pc.append(power_cost)\n",
    "#             ac.append(affinity_cost)\n",
    "#             aasr.append(calculate_average_affinity_satisfaction_ratio(df_applications_temp, df_machines_temp, df_allocation_matrix, df_user_affinity_matrix_temp))\n",
    "#             au.append(calculate_average_utilization(df_allocation_matrix, df_applications_temp, df_machines_temp))\n",
    "#             print(\"Done!\")\n",
    "#     print(pc)\n",
    "#     print(ac)\n",
    "#     print(tc)\n",
    "#     print(aasr)\n",
    "#     print(au)"
   ]
  },
  {
   "cell_type": "markdown",
   "id": "4479e75b",
   "metadata": {
    "papermill": {
     "duration": 0.017193,
     "end_time": "2024-04-21T17:22:35.031041",
     "exception": false,
     "start_time": "2024-04-21T17:22:35.013848",
     "status": "completed"
    },
    "tags": []
   },
   "source": [
    "## Impact of Number of Machines (Benchmark Dataset)\n",
    "\n",
    "- Alpha = 4\n",
    "- Applications: 175\n",
    "- Machines : [150, 175, 200, 225, 250]"
   ]
  },
  {
   "cell_type": "code",
   "execution_count": 35,
   "id": "87f4096a",
   "metadata": {
    "execution": {
     "iopub.execute_input": "2024-04-21T17:22:35.066889Z",
     "iopub.status.busy": "2024-04-21T17:22:35.066484Z",
     "iopub.status.idle": "2024-04-21T17:22:35.073817Z",
     "shell.execute_reply": "2024-04-21T17:22:35.072623Z"
    },
    "papermill": {
     "duration": 0.029147,
     "end_time": "2024-04-21T17:22:35.076512",
     "exception": false,
     "start_time": "2024-04-21T17:22:35.047365",
     "status": "completed"
    },
    "tags": []
   },
   "outputs": [],
   "source": [
    "# for algo in [Group_Sched, PAS, AAS, Proposed_Approach]:\n",
    "#     print(algo.__name__)\n",
    "#     pc = []\n",
    "#     ac = []\n",
    "#     tc = []\n",
    "#     aasr = []\n",
    "#     au = []\n",
    "#     for num_applications in [175]:\n",
    "#         for num_machines in [150, 175, 200, 225, 250]:\n",
    "#             number_of_machines_temp = num_machines\n",
    "#             number_of_applications_temp = num_applications\n",
    "#             df_machines_temp = df_machines.head(number_of_machines_temp)\n",
    "#             df_applications_temp = df_applications.head(number_of_applications_temp)\n",
    "#             df_affinity_matrix_temp = df_affinity_matrix.loc[0:number_of_applications_temp-1,0:number_of_machines_temp-1]\n",
    "#             df_user_affinity_matrix_temp = df_user_affinity_matrix.loc[0:number_of_applications_temp-1,0:number_of_machines_temp-1]\n",
    "#             df_anti_affinity_matrix_temp = df_anti_affinity_matrix.loc[0:number_of_applications_temp-1,0:number_of_machines_temp-1]\n",
    "\n",
    "#             df_allocation_matrix = algo(df_machines_temp, df_applications_temp, df_affinity_matrix_temp, df_anti_affinity_matrix_temp)\n",
    "#             if df_allocation_matrix.sum().sum() != df_applications_temp['Instances'].sum():\n",
    "#                 print(\"False!\")\n",
    "#             power_cost = calculate_total_power_cost(df_allocation_matrix, df_applications_temp, df_machines_temp)\n",
    "#             affinity_cost = calculate_total_affinity_cost(df_allocation_matrix, df_affinity_matrix_temp)\n",
    "#             tc.append(calculate_total_system_cost(power_cost, affinity_cost))\n",
    "#             pc.append(power_cost)\n",
    "#             ac.append(affinity_cost)\n",
    "#             aasr.append(calculate_average_affinity_satisfaction_ratio(df_applications_temp, df_machines_temp, df_allocation_matrix, df_user_affinity_matrix_temp))\n",
    "#             au.append(calculate_average_utilization(df_allocation_matrix, df_applications_temp, df_machines_temp))\n",
    "#             print(\"Done!\")\n",
    "#     print(pc)\n",
    "#     print(ac)\n",
    "#     print(tc)\n",
    "#     print(aasr)\n",
    "#     print(au)"
   ]
  },
  {
   "cell_type": "markdown",
   "id": "d390e0fa",
   "metadata": {
    "papermill": {
     "duration": 0.015438,
     "end_time": "2024-04-21T17:22:35.109080",
     "exception": false,
     "start_time": "2024-04-21T17:22:35.093642",
     "status": "completed"
    },
    "tags": []
   },
   "source": [
    "## Impact of Number of Applications (Random Dataset)\n",
    "\n",
    "- Alpha = 4\n",
    "- Applications: [30, 40, 50, 60, 70]\n",
    "- Machines: 60"
   ]
  },
  {
   "cell_type": "code",
   "execution_count": 36,
   "id": "dc820f63",
   "metadata": {
    "execution": {
     "iopub.execute_input": "2024-04-21T17:22:35.142293Z",
     "iopub.status.busy": "2024-04-21T17:22:35.141923Z",
     "iopub.status.idle": "2024-04-21T17:22:35.148750Z",
     "shell.execute_reply": "2024-04-21T17:22:35.147465Z"
    },
    "papermill": {
     "duration": 0.02668,
     "end_time": "2024-04-21T17:22:35.151530",
     "exception": false,
     "start_time": "2024-04-21T17:22:35.124850",
     "status": "completed"
    },
    "tags": []
   },
   "outputs": [],
   "source": [
    "# for algo in [Group_Sched, PAS, AAS, Proposed_Approach]:\n",
    "#     print(algo.__name__)\n",
    "#     pc = []\n",
    "#     ac = []\n",
    "#     tc = []\n",
    "#     aasr = []\n",
    "#     au = []\n",
    "#     for num_applications in [30, 40, 50, 60, 70]:\n",
    "#         for num_machines in [60]:\n",
    "#             number_of_machines_temp = num_machines\n",
    "#             number_of_applications_temp = num_applications\n",
    "#             df_machines_temp = df_machines.head(number_of_machines_temp)\n",
    "#             df_applications_temp = df_applications.head(number_of_applications_temp)\n",
    "#             df_affinity_matrix_temp = df_affinity_matrix.loc[0:number_of_applications_temp-1,0:number_of_machines_temp-1]\n",
    "#             df_user_affinity_matrix_temp = df_user_affinity_matrix.loc[0:number_of_applications_temp-1,0:number_of_machines_temp-1]\n",
    "#             df_anti_affinity_matrix_temp = df_anti_affinity_matrix.loc[0:number_of_applications_temp-1,0:number_of_machines_temp-1]\n",
    "\n",
    "#             df_allocation_matrix = algo(df_machines_temp, df_applications_temp, df_affinity_matrix_temp, df_anti_affinity_matrix_temp)\n",
    "#             if df_allocation_matrix.sum().sum() != df_applications_temp['Instances'].sum():\n",
    "#                 print(\"False!\")\n",
    "#             power_cost = calculate_total_power_cost(df_allocation_matrix, df_applications_temp, df_machines_temp)\n",
    "#             affinity_cost = calculate_total_affinity_cost(df_allocation_matrix, df_affinity_matrix_temp)\n",
    "#             tc.append(calculate_total_system_cost(power_cost, affinity_cost))\n",
    "#             pc.append(power_cost)\n",
    "#             ac.append(affinity_cost)\n",
    "#             aasr.append(calculate_average_affinity_satisfaction_ratio(df_applications_temp, df_machines_temp, df_allocation_matrix, df_user_affinity_matrix_temp))\n",
    "#             au.append(calculate_average_utilization(df_allocation_matrix, df_applications_temp, df_machines_temp))\n",
    "#             print(\"Done!\")\n",
    "#     print(pc)\n",
    "#     print(ac)\n",
    "#     print(tc)\n",
    "#     print(aasr)\n",
    "#     print(au)"
   ]
  },
  {
   "cell_type": "markdown",
   "id": "35ee36c7",
   "metadata": {
    "papermill": {
     "duration": 0.015665,
     "end_time": "2024-04-21T17:22:35.182980",
     "exception": false,
     "start_time": "2024-04-21T17:22:35.167315",
     "status": "completed"
    },
    "tags": []
   },
   "source": [
    "## Impact of Number of Applications (Benchmark Dataset)\n",
    "\n",
    "- Alpha = 4\n",
    "- Applications: [120 ,140, 160, 180, 200]\n",
    "- Machines: 250"
   ]
  },
  {
   "cell_type": "code",
   "execution_count": 37,
   "id": "0bf240f3",
   "metadata": {
    "execution": {
     "iopub.execute_input": "2024-04-21T17:22:35.217360Z",
     "iopub.status.busy": "2024-04-21T17:22:35.216962Z",
     "iopub.status.idle": "2024-04-21T17:22:35.224718Z",
     "shell.execute_reply": "2024-04-21T17:22:35.223271Z"
    },
    "papermill": {
     "duration": 0.029109,
     "end_time": "2024-04-21T17:22:35.228154",
     "exception": false,
     "start_time": "2024-04-21T17:22:35.199045",
     "status": "completed"
    },
    "tags": []
   },
   "outputs": [],
   "source": [
    "# for algo in [Group_Sched, PAS, AAS, Proposed_Approach]:\n",
    "#     print(algo.__name__)\n",
    "#     pc = []\n",
    "#     ac = []\n",
    "#     tc = []\n",
    "#     aasr = []\n",
    "#     au = []\n",
    "#     for num_applications in [120 ,140, 160, 180, 200]:\n",
    "#         for num_machines in [250]:\n",
    "#             number_of_machines_temp = num_machines\n",
    "#             number_of_applications_temp = num_applications\n",
    "#             df_machines_temp = df_machines.head(number_of_machines_temp)\n",
    "#             df_applications_temp = df_applications.head(number_of_applications_temp)\n",
    "#             df_affinity_matrix_temp = df_affinity_matrix.loc[0:number_of_applications_temp-1,0:number_of_machines_temp-1]\n",
    "#             df_user_affinity_matrix_temp = df_user_affinity_matrix.loc[0:number_of_applications_temp-1,0:number_of_machines_temp-1]\n",
    "#             df_anti_affinity_matrix_temp = df_anti_affinity_matrix.loc[0:number_of_applications_temp-1,0:number_of_machines_temp-1]\n",
    "\n",
    "#             df_allocation_matrix = algo(df_machines_temp, df_applications_temp, df_affinity_matrix_temp, df_anti_affinity_matrix_temp)\n",
    "#             if df_allocation_matrix.sum().sum() != df_applications_temp['Instances'].sum():\n",
    "#                 print(\"False!\")\n",
    "#             power_cost = calculate_total_power_cost(df_allocation_matrix, df_applications_temp, df_machines_temp)\n",
    "#             affinity_cost = calculate_total_affinity_cost(df_allocation_matrix, df_affinity_matrix_temp)\n",
    "#             tc.append(calculate_total_system_cost(power_cost, affinity_cost))\n",
    "#             pc.append(power_cost)\n",
    "#             ac.append(affinity_cost)\n",
    "#             aasr.append(calculate_average_affinity_satisfaction_ratio(df_applications_temp, df_machines_temp, df_allocation_matrix, df_user_affinity_matrix_temp))\n",
    "#             au.append(calculate_average_utilization(df_allocation_matrix, df_applications_temp, df_machines_temp))\n",
    "#             print(\"Done!\")\n",
    "#     print(pc)\n",
    "#     print(ac)\n",
    "#     print(tc)\n",
    "#     print(aasr)\n",
    "#     print(au)"
   ]
  },
  {
   "cell_type": "markdown",
   "id": "fd7f6dfe",
   "metadata": {
    "papermill": {
     "duration": 0.017116,
     "end_time": "2024-04-21T17:22:35.262558",
     "exception": false,
     "start_time": "2024-04-21T17:22:35.245442",
     "status": "completed"
    },
    "tags": []
   },
   "source": [
    "## Impact of ALPHA (Benchmark Dataset)\n",
    "\n",
    "- Alpha = [0.5, 1, 5, 10, 20, 30, 40, 50, 60, 70, 80, 90, 100]\n",
    "- Applications: 200\n",
    "- Machines: 250"
   ]
  },
  {
   "cell_type": "code",
   "execution_count": 38,
   "id": "486d923d",
   "metadata": {
    "execution": {
     "iopub.execute_input": "2024-04-21T17:22:35.297308Z",
     "iopub.status.busy": "2024-04-21T17:22:35.296907Z",
     "iopub.status.idle": "2024-04-21T17:22:35.303402Z",
     "shell.execute_reply": "2024-04-21T17:22:35.302237Z"
    },
    "papermill": {
     "duration": 0.026493,
     "end_time": "2024-04-21T17:22:35.306023",
     "exception": false,
     "start_time": "2024-04-21T17:22:35.279530",
     "status": "completed"
    },
    "tags": []
   },
   "outputs": [],
   "source": [
    "# for algo in [Group_Sched, PAS, AAS, Proposed_Approach]:\n",
    "#     print(algo.__name__)\n",
    "#     tc = []\n",
    "#     for ALPHA in [0.5, 1, 5, 10, 20, 30, 40, 50, 60, 70, 80, 90, 100]:\n",
    "#         number_of_machines_temp = df_machines.shape[0]\n",
    "#         number_of_applications_temp = df_applications.shape[0]\n",
    "#         df_machines_temp = df_machines.head(number_of_machines_temp)\n",
    "#         df_applications_temp = df_applications.head(number_of_applications_temp)\n",
    "#         df_affinity_matrix_temp = df_affinity_matrix.loc[0:number_of_applications_temp-1,0:number_of_machines_temp-1]\n",
    "#         df_user_affinity_matrix_temp = df_user_affinity_matrix.loc[0:number_of_applications_temp-1,0:number_of_machines_temp-1]\n",
    "#         df_anti_affinity_matrix_temp = df_anti_affinity_matrix.loc[0:number_of_applications_temp-1,0:number_of_machines_temp-1]\n",
    "\n",
    "#         df_allocation_matrix = algo(df_machines_temp, df_applications_temp, df_affinity_matrix_temp, df_anti_affinity_matrix_temp)\n",
    "#         if df_allocation_matrix.sum().sum() != df_applications_temp['Instances'].sum():\n",
    "#             print(\"False!\")\n",
    "#         power_cost = calculate_total_power_cost(df_allocation_matrix, df_applications_temp, df_machines_temp)\n",
    "#         affinity_cost = calculate_total_affinity_cost(df_allocation_matrix, df_affinity_matrix_temp)\n",
    "#         tc.append(calculate_total_system_cost(power_cost, affinity_cost))\n",
    "#         print(\"Done!\")\n",
    "#     print(tc)"
   ]
  },
  {
   "cell_type": "markdown",
   "id": "10e68423",
   "metadata": {
    "papermill": {
     "duration": 0.015514,
     "end_time": "2024-04-21T17:22:35.337656",
     "exception": false,
     "start_time": "2024-04-21T17:22:35.322142",
     "status": "completed"
    },
    "tags": []
   },
   "source": [
    "## Impact of Anti-Affinity Percetage (Benchmark Dataset)\n",
    "\n",
    "- Alpha = 4\n",
    "- Applications: 200\n",
    "- Machines: 250\n",
    "- Anti-Affinity Percentage = [10%, 20%, 30%, 40%, 50%]"
   ]
  },
  {
   "cell_type": "code",
   "execution_count": 39,
   "id": "d77949a9",
   "metadata": {
    "execution": {
     "iopub.execute_input": "2024-04-21T17:22:35.370998Z",
     "iopub.status.busy": "2024-04-21T17:22:35.370555Z",
     "iopub.status.idle": "2024-04-21T17:22:35.378031Z",
     "shell.execute_reply": "2024-04-21T17:22:35.376686Z"
    },
    "papermill": {
     "duration": 0.027434,
     "end_time": "2024-04-21T17:22:35.380654",
     "exception": false,
     "start_time": "2024-04-21T17:22:35.353220",
     "status": "completed"
    },
    "tags": []
   },
   "outputs": [],
   "source": [
    "# for algo in [Group_Sched, PAS, AAS, Proposed_Approach]:\n",
    "#     print(algo.__name__)\n",
    "#     pc = []\n",
    "#     ac = []\n",
    "#     tc = []\n",
    "#     aasr = []\n",
    "#     au = []\n",
    "#     for percent in [10, 20, 30, 40, 50]:\n",
    "#         df_anti_affinity_matrix = pd.read_csv('../Datasets/Anti-Affinity Matrices/Anti_Affinity_Matrix_' + str(percent) + '.csv')\n",
    "#         df_anti_affinity_matrix = df_anti_affinity_matrix.loc[:, ~df_anti_affinity_matrix.columns.str.contains('^Unnamed')]\n",
    "#         df_anti_affinity_matrix.columns = pd.to_numeric(df_anti_affinity_matrix.columns, errors='coerce')\n",
    "\n",
    "#         number_of_machines_temp = df_machines.shape[0]\n",
    "#         number_of_applications_temp = df_applications.shape[0]\n",
    "#         df_machines_temp = df_machines.head(number_of_machines_temp)\n",
    "#         df_applications_temp = df_applications.head(number_of_applications_temp)\n",
    "#         df_affinity_matrix_temp = df_affinity_matrix.loc[0:number_of_applications_temp-1,0:number_of_machines_temp-1]\n",
    "#         df_user_affinity_matrix_temp = df_user_affinity_matrix.loc[0:number_of_applications_temp-1,0:number_of_machines_temp-1]\n",
    "#         df_anti_affinity_matrix_temp = df_anti_affinity_matrix.loc[0:number_of_applications_temp-1,0:number_of_machines_temp-1]\n",
    "\n",
    "#         df_allocation_matrix = algo(df_machines_temp, df_applications_temp, df_affinity_matrix_temp, df_anti_affinity_matrix_temp)\n",
    "#         if df_allocation_matrix.sum().sum() != df_applications_temp['Instances'].sum():\n",
    "#             print(\"False!\")\n",
    "#         power_cost = calculate_total_power_cost(df_allocation_matrix, df_applications_temp, df_machines_temp)\n",
    "#         affinity_cost = calculate_total_affinity_cost(df_allocation_matrix, df_affinity_matrix_temp)\n",
    "#         tc.append(calculate_total_system_cost(power_cost, affinity_cost))\n",
    "#         pc.append(power_cost)\n",
    "#         ac.append(affinity_cost)\n",
    "#         aasr.append(calculate_average_affinity_satisfaction_ratio(df_applications_temp, df_machines_temp, df_allocation_matrix, df_user_affinity_matrix_temp))\n",
    "#         au.append(calculate_average_utilization(df_allocation_matrix, df_applications_temp, df_machines_temp))\n",
    "#         print(\"Done!\")\n",
    "#     print(pc)\n",
    "#     print(ac)\n",
    "#     print(tc)\n",
    "#     print(aasr)\n",
    "#     print(au)"
   ]
  }
 ],
 "metadata": {
  "kaggle": {
   "accelerator": "none",
   "dataSources": [
    {
     "datasetId": 4371451,
     "sourceId": 7506279,
     "sourceType": "datasetVersion"
    },
    {
     "datasetId": 4558277,
     "sourceId": 7787769,
     "sourceType": "datasetVersion"
    },
    {
     "datasetId": 4792836,
     "sourceId": 8113097,
     "sourceType": "datasetVersion"
    }
   ],
   "dockerImageVersionId": 30646,
   "isGpuEnabled": false,
   "isInternetEnabled": true,
   "language": "python",
   "sourceType": "notebook"
  },
  "kernelspec": {
   "display_name": "Python 3",
   "language": "python",
   "name": "python3"
  },
  "language_info": {
   "codemirror_mode": {
    "name": "ipython",
    "version": 3
   },
   "file_extension": ".py",
   "mimetype": "text/x-python",
   "name": "python",
   "nbconvert_exporter": "python",
   "pygments_lexer": "ipython3",
   "version": "3.11.9"
  },
  "papermill": {
   "default_parameters": {},
   "duration": 15.146914,
   "end_time": "2024-04-21T17:22:35.919783",
   "environment_variables": {},
   "exception": null,
   "input_path": "__notebook__.ipynb",
   "output_path": "__notebook__.ipynb",
   "parameters": {},
   "start_time": "2024-04-21T17:22:20.772869",
   "version": "2.5.0"
  }
 },
 "nbformat": 4,
 "nbformat_minor": 5
}
